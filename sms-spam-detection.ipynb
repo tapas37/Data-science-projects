{
 "cells": [
  {
   "cell_type": "code",
   "execution_count": 37,
   "id": "a22805a9",
   "metadata": {},
   "outputs": [],
   "source": [
    "import numpy as np\n",
    "import pandas as pd"
   ]
  },
  {
   "cell_type": "code",
   "execution_count": 38,
   "id": "38de44bc",
   "metadata": {},
   "outputs": [],
   "source": [
    "# Pandas tried to open the file using the UTF-8 encoding (its default).\n",
    "# But your file wasn’t actually saved in UTF-8 — it was saved in another encoding (probably ISO-8859-1 or Windows-1252).\n",
    "import pandas as pd\n",
    "df = pd.read_csv('spam.csv', encoding='ISO-8859-1')"
   ]
  },
  {
   "cell_type": "code",
   "execution_count": 39,
   "id": "1ce8752f",
   "metadata": {},
   "outputs": [
    {
     "data": {
      "text/html": [
       "<div>\n",
       "<style scoped>\n",
       "    .dataframe tbody tr th:only-of-type {\n",
       "        vertical-align: middle;\n",
       "    }\n",
       "\n",
       "    .dataframe tbody tr th {\n",
       "        vertical-align: top;\n",
       "    }\n",
       "\n",
       "    .dataframe thead th {\n",
       "        text-align: right;\n",
       "    }\n",
       "</style>\n",
       "<table border=\"1\" class=\"dataframe\">\n",
       "  <thead>\n",
       "    <tr style=\"text-align: right;\">\n",
       "      <th></th>\n",
       "      <th>v1</th>\n",
       "      <th>v2</th>\n",
       "      <th>Unnamed: 2</th>\n",
       "      <th>Unnamed: 3</th>\n",
       "      <th>Unnamed: 4</th>\n",
       "    </tr>\n",
       "  </thead>\n",
       "  <tbody>\n",
       "    <tr>\n",
       "      <th>3123</th>\n",
       "      <td>ham</td>\n",
       "      <td>My uncles in Atlanta. Wish you guys a great se...</td>\n",
       "      <td>NaN</td>\n",
       "      <td>NaN</td>\n",
       "      <td>NaN</td>\n",
       "    </tr>\n",
       "    <tr>\n",
       "      <th>4460</th>\n",
       "      <td>ham</td>\n",
       "      <td>Thanks again for your reply today. When is ur ...</td>\n",
       "      <td>NaN</td>\n",
       "      <td>NaN</td>\n",
       "      <td>NaN</td>\n",
       "    </tr>\n",
       "    <tr>\n",
       "      <th>4283</th>\n",
       "      <td>ham</td>\n",
       "      <td>Yes. I come to nyc for audiitions and am tryin...</td>\n",
       "      <td>NaN</td>\n",
       "      <td>NaN</td>\n",
       "      <td>NaN</td>\n",
       "    </tr>\n",
       "    <tr>\n",
       "      <th>1223</th>\n",
       "      <td>ham</td>\n",
       "      <td>Rofl betta invest in some  anti aging products</td>\n",
       "      <td>NaN</td>\n",
       "      <td>NaN</td>\n",
       "      <td>NaN</td>\n",
       "    </tr>\n",
       "    <tr>\n",
       "      <th>1019</th>\n",
       "      <td>ham</td>\n",
       "      <td>Don know..wait i will check it.</td>\n",
       "      <td>NaN</td>\n",
       "      <td>NaN</td>\n",
       "      <td>NaN</td>\n",
       "    </tr>\n",
       "  </tbody>\n",
       "</table>\n",
       "</div>"
      ],
      "text/plain": [
       "       v1                                                 v2 Unnamed: 2  \\\n",
       "3123  ham  My uncles in Atlanta. Wish you guys a great se...        NaN   \n",
       "4460  ham  Thanks again for your reply today. When is ur ...        NaN   \n",
       "4283  ham  Yes. I come to nyc for audiitions and am tryin...        NaN   \n",
       "1223  ham     Rofl betta invest in some  anti aging products        NaN   \n",
       "1019  ham                    Don know..wait i will check it.        NaN   \n",
       "\n",
       "     Unnamed: 3 Unnamed: 4  \n",
       "3123        NaN        NaN  \n",
       "4460        NaN        NaN  \n",
       "4283        NaN        NaN  \n",
       "1223        NaN        NaN  \n",
       "1019        NaN        NaN  "
      ]
     },
     "execution_count": 39,
     "metadata": {},
     "output_type": "execute_result"
    }
   ],
   "source": [
    "df.sample(5)"
   ]
  },
  {
   "cell_type": "code",
   "execution_count": 40,
   "id": "f9e3385b",
   "metadata": {},
   "outputs": [
    {
     "data": {
      "text/plain": [
       "(5572, 5)"
      ]
     },
     "execution_count": 40,
     "metadata": {},
     "output_type": "execute_result"
    }
   ],
   "source": [
    "df.shape"
   ]
  },
  {
   "cell_type": "code",
   "execution_count": 41,
   "id": "0015d452",
   "metadata": {},
   "outputs": [],
   "source": [
    "# 1. data cleaning\n",
    "# 2. EDA\n",
    "# 3. text preprocessing\n",
    "# 4. model building\n",
    "# 5. evaluation\n",
    "# 6.imporvement\n",
    "# 7. website\n",
    "# 8. deploy"
   ]
  },
  {
   "cell_type": "markdown",
   "id": "ebd6127e",
   "metadata": {},
   "source": [
    "# Data Cleaning"
   ]
  },
  {
   "cell_type": "code",
   "execution_count": 42,
   "id": "470513d2",
   "metadata": {},
   "outputs": [
    {
     "name": "stdout",
     "output_type": "stream",
     "text": [
      "<class 'pandas.core.frame.DataFrame'>\n",
      "RangeIndex: 5572 entries, 0 to 5571\n",
      "Data columns (total 5 columns):\n",
      " #   Column      Non-Null Count  Dtype \n",
      "---  ------      --------------  ----- \n",
      " 0   v1          5572 non-null   object\n",
      " 1   v2          5572 non-null   object\n",
      " 2   Unnamed: 2  50 non-null     object\n",
      " 3   Unnamed: 3  12 non-null     object\n",
      " 4   Unnamed: 4  6 non-null      object\n",
      "dtypes: object(5)\n",
      "memory usage: 217.8+ KB\n"
     ]
    }
   ],
   "source": [
    "df.info()"
   ]
  },
  {
   "cell_type": "code",
   "execution_count": 43,
   "id": "8c7800b5",
   "metadata": {},
   "outputs": [],
   "source": [
    "# drop last 3 column\n",
    "df.drop(columns=['Unnamed: 2','Unnamed: 3','Unnamed: 4'],inplace=True)"
   ]
  },
  {
   "cell_type": "code",
   "execution_count": 44,
   "id": "cd8313b9",
   "metadata": {},
   "outputs": [
    {
     "data": {
      "text/html": [
       "<div>\n",
       "<style scoped>\n",
       "    .dataframe tbody tr th:only-of-type {\n",
       "        vertical-align: middle;\n",
       "    }\n",
       "\n",
       "    .dataframe tbody tr th {\n",
       "        vertical-align: top;\n",
       "    }\n",
       "\n",
       "    .dataframe thead th {\n",
       "        text-align: right;\n",
       "    }\n",
       "</style>\n",
       "<table border=\"1\" class=\"dataframe\">\n",
       "  <thead>\n",
       "    <tr style=\"text-align: right;\">\n",
       "      <th></th>\n",
       "      <th>v1</th>\n",
       "      <th>v2</th>\n",
       "    </tr>\n",
       "  </thead>\n",
       "  <tbody>\n",
       "    <tr>\n",
       "      <th>95</th>\n",
       "      <td>spam</td>\n",
       "      <td>Your free ringtone is waiting to be collected....</td>\n",
       "    </tr>\n",
       "    <tr>\n",
       "      <th>2842</th>\n",
       "      <td>ham</td>\n",
       "      <td>Tunji, how's the queen? how are you doing. Thi...</td>\n",
       "    </tr>\n",
       "    <tr>\n",
       "      <th>1923</th>\n",
       "      <td>ham</td>\n",
       "      <td>Hello. They are going to the village pub at 8 ...</td>\n",
       "    </tr>\n",
       "    <tr>\n",
       "      <th>4858</th>\n",
       "      <td>ham</td>\n",
       "      <td>Hey, a guy I know is breathing down my neck to...</td>\n",
       "    </tr>\n",
       "    <tr>\n",
       "      <th>4379</th>\n",
       "      <td>ham</td>\n",
       "      <td>Done it but internet connection v slow and can...</td>\n",
       "    </tr>\n",
       "  </tbody>\n",
       "</table>\n",
       "</div>"
      ],
      "text/plain": [
       "        v1                                                 v2\n",
       "95    spam  Your free ringtone is waiting to be collected....\n",
       "2842   ham  Tunji, how's the queen? how are you doing. Thi...\n",
       "1923   ham  Hello. They are going to the village pub at 8 ...\n",
       "4858   ham  Hey, a guy I know is breathing down my neck to...\n",
       "4379   ham  Done it but internet connection v slow and can..."
      ]
     },
     "execution_count": 44,
     "metadata": {},
     "output_type": "execute_result"
    }
   ],
   "source": [
    "df.sample(5)"
   ]
  },
  {
   "cell_type": "code",
   "execution_count": 45,
   "id": "3b93d7cb",
   "metadata": {},
   "outputs": [],
   "source": [
    "# renaming the columns\n",
    "df.rename(columns={'v1': 'target','v2':'text'},inplace=True)"
   ]
  },
  {
   "cell_type": "code",
   "execution_count": 46,
   "id": "e48e68f8",
   "metadata": {},
   "outputs": [
    {
     "data": {
      "text/html": [
       "<div>\n",
       "<style scoped>\n",
       "    .dataframe tbody tr th:only-of-type {\n",
       "        vertical-align: middle;\n",
       "    }\n",
       "\n",
       "    .dataframe tbody tr th {\n",
       "        vertical-align: top;\n",
       "    }\n",
       "\n",
       "    .dataframe thead th {\n",
       "        text-align: right;\n",
       "    }\n",
       "</style>\n",
       "<table border=\"1\" class=\"dataframe\">\n",
       "  <thead>\n",
       "    <tr style=\"text-align: right;\">\n",
       "      <th></th>\n",
       "      <th>target</th>\n",
       "      <th>text</th>\n",
       "    </tr>\n",
       "  </thead>\n",
       "  <tbody>\n",
       "    <tr>\n",
       "      <th>3317</th>\n",
       "      <td>ham</td>\n",
       "      <td>I'm freezing and craving ice. Fml</td>\n",
       "    </tr>\n",
       "    <tr>\n",
       "      <th>2318</th>\n",
       "      <td>ham</td>\n",
       "      <td>On the way to office da..</td>\n",
       "    </tr>\n",
       "    <tr>\n",
       "      <th>286</th>\n",
       "      <td>ham</td>\n",
       "      <td>Ok..</td>\n",
       "    </tr>\n",
       "    <tr>\n",
       "      <th>1067</th>\n",
       "      <td>ham</td>\n",
       "      <td>Meeting u is my work. . . Tel me when shall i ...</td>\n",
       "    </tr>\n",
       "    <tr>\n",
       "      <th>5421</th>\n",
       "      <td>ham</td>\n",
       "      <td>Hi elaine, is today's meeting confirmed?</td>\n",
       "    </tr>\n",
       "  </tbody>\n",
       "</table>\n",
       "</div>"
      ],
      "text/plain": [
       "     target                                               text\n",
       "3317    ham                  I'm freezing and craving ice. Fml\n",
       "2318    ham                          On the way to office da..\n",
       "286     ham                                               Ok..\n",
       "1067    ham  Meeting u is my work. . . Tel me when shall i ...\n",
       "5421    ham           Hi elaine, is today's meeting confirmed?"
      ]
     },
     "execution_count": 46,
     "metadata": {},
     "output_type": "execute_result"
    }
   ],
   "source": [
    "df.sample(5)"
   ]
  },
  {
   "cell_type": "code",
   "execution_count": 47,
   "id": "07331529",
   "metadata": {},
   "outputs": [],
   "source": [
    "# covert target colum to 0 and 1\n",
    "from sklearn.preprocessing import LabelEncoder\n",
    "encoder=LabelEncoder()"
   ]
  },
  {
   "cell_type": "code",
   "execution_count": 48,
   "id": "9b199521",
   "metadata": {},
   "outputs": [],
   "source": [
    "df['target']=encoder.fit_transform(df['target'])"
   ]
  },
  {
   "cell_type": "code",
   "execution_count": 50,
   "id": "5e2ac163",
   "metadata": {},
   "outputs": [
    {
     "data": {
      "text/html": [
       "<div>\n",
       "<style scoped>\n",
       "    .dataframe tbody tr th:only-of-type {\n",
       "        vertical-align: middle;\n",
       "    }\n",
       "\n",
       "    .dataframe tbody tr th {\n",
       "        vertical-align: top;\n",
       "    }\n",
       "\n",
       "    .dataframe thead th {\n",
       "        text-align: right;\n",
       "    }\n",
       "</style>\n",
       "<table border=\"1\" class=\"dataframe\">\n",
       "  <thead>\n",
       "    <tr style=\"text-align: right;\">\n",
       "      <th></th>\n",
       "      <th>target</th>\n",
       "      <th>text</th>\n",
       "    </tr>\n",
       "  </thead>\n",
       "  <tbody>\n",
       "    <tr>\n",
       "      <th>5058</th>\n",
       "      <td>1</td>\n",
       "      <td>Free video camera phones with Half Price line ...</td>\n",
       "    </tr>\n",
       "    <tr>\n",
       "      <th>1313</th>\n",
       "      <td>0</td>\n",
       "      <td>How abt making some of the pics bigger?</td>\n",
       "    </tr>\n",
       "    <tr>\n",
       "      <th>2144</th>\n",
       "      <td>1</td>\n",
       "      <td>FreeMsg: Hey - I'm Buffy. 25 and love to satis...</td>\n",
       "    </tr>\n",
       "    <tr>\n",
       "      <th>434</th>\n",
       "      <td>0</td>\n",
       "      <td>You available now? I'm like right around hills...</td>\n",
       "    </tr>\n",
       "    <tr>\n",
       "      <th>858</th>\n",
       "      <td>0</td>\n",
       "      <td>Spoons it is then okay?</td>\n",
       "    </tr>\n",
       "  </tbody>\n",
       "</table>\n",
       "</div>"
      ],
      "text/plain": [
       "      target                                               text\n",
       "5058       1  Free video camera phones with Half Price line ...\n",
       "1313       0            How abt making some of the pics bigger?\n",
       "2144       1  FreeMsg: Hey - I'm Buffy. 25 and love to satis...\n",
       "434        0  You available now? I'm like right around hills...\n",
       "858        0                            Spoons it is then okay?"
      ]
     },
     "execution_count": 50,
     "metadata": {},
     "output_type": "execute_result"
    }
   ],
   "source": [
    "df.sample(5)"
   ]
  },
  {
   "cell_type": "code",
   "execution_count": 51,
   "id": "d15885db",
   "metadata": {},
   "outputs": [
    {
     "data": {
      "text/plain": [
       "target    0\n",
       "text      0\n",
       "dtype: int64"
      ]
     },
     "execution_count": 51,
     "metadata": {},
     "output_type": "execute_result"
    }
   ],
   "source": [
    "# missing value checking\n",
    "df.isnull().sum()"
   ]
  },
  {
   "cell_type": "code",
   "execution_count": 52,
   "id": "505eefe0",
   "metadata": {},
   "outputs": [
    {
     "data": {
      "text/plain": [
       "403"
      ]
     },
     "execution_count": 52,
     "metadata": {},
     "output_type": "execute_result"
    }
   ],
   "source": [
    "# check for duplicate values\n",
    "df.duplicated().sum()"
   ]
  },
  {
   "cell_type": "code",
   "execution_count": 54,
   "id": "0fb9d647",
   "metadata": {},
   "outputs": [],
   "source": [
    "# remove duplicate\n",
    "df=df.drop_duplicates(keep='first')"
   ]
  },
  {
   "cell_type": "code",
   "execution_count": 55,
   "id": "0022b50f",
   "metadata": {},
   "outputs": [
    {
     "data": {
      "text/plain": [
       "0"
      ]
     },
     "execution_count": 55,
     "metadata": {},
     "output_type": "execute_result"
    }
   ],
   "source": [
    "df.duplicated().sum()"
   ]
  },
  {
   "cell_type": "code",
   "execution_count": 58,
   "id": "a0e0f16f",
   "metadata": {},
   "outputs": [
    {
     "data": {
      "text/plain": [
       "(5169, 2)"
      ]
     },
     "execution_count": 58,
     "metadata": {},
     "output_type": "execute_result"
    }
   ],
   "source": [
    "df.shape"
   ]
  },
  {
   "cell_type": "markdown",
   "id": "856bc6c1",
   "metadata": {},
   "source": [
    "# EDA"
   ]
  },
  {
   "cell_type": "code",
   "execution_count": 60,
   "id": "55abef5b",
   "metadata": {},
   "outputs": [
    {
     "data": {
      "text/plain": [
       "target\n",
       "0    4516\n",
       "1     653\n",
       "Name: count, dtype: int64"
      ]
     },
     "execution_count": 60,
     "metadata": {},
     "output_type": "execute_result"
    }
   ],
   "source": [
    "df['target'].value_counts()"
   ]
  },
  {
   "cell_type": "code",
   "execution_count": 62,
   "id": "e34a5f97",
   "metadata": {},
   "outputs": [
    {
     "data": {
      "image/png": "[encoded data removed]",
      "text/plain": [
       "<Figure size 640x480 with 1 Axes>"
      ]
     },
     "metadata": {},
     "output_type": "display_data"
    }
   ],
   "source": [
    "import matplotlib.pyplot as plt\n",
    "plt.pie(df['target'].value_counts(),labels=['ham','spam'],autopct=\" %0.2f\")\n",
    "\n",
    "plt.show()"
   ]
  },
  {
   "cell_type": "code",
   "execution_count": 63,
   "id": "92bc327f",
   "metadata": {},
   "outputs": [],
   "source": [
    "# so from above data is imbalance"
   ]
  },
  {
   "cell_type": "code",
   "execution_count": null,
   "id": "d7655fcf",
   "metadata": {},
   "outputs": [],
   "source": [
    "# number of charecters"
   ]
  },
  {
   "cell_type": "code",
   "execution_count": 65,
   "id": "9809b48e",
   "metadata": {},
   "outputs": [],
   "source": [
    "import nltk"
   ]
  },
  {
   "cell_type": "code",
   "execution_count": 66,
   "id": "1bdaa6f0",
   "metadata": {},
   "outputs": [
    {
     "name": "stderr",
     "output_type": "stream",
     "text": [
      "[nltk_data] Downloading package punkt to C:\\Users\\Tapash/nltk_data...\n",
      "[nltk_data]   Package punkt is already up-to-date!\n"
     ]
    },
    {
     "data": {
      "text/plain": [
       "True"
      ]
     },
     "execution_count": 66,
     "metadata": {},
     "output_type": "execute_result"
    }
   ],
   "source": [
    "nltk.download('punkt')"
   ]
  },
  {
   "cell_type": "code",
   "execution_count": 71,
   "id": "5d45bbb9",
   "metadata": {},
   "outputs": [
    {
     "name": "stderr",
     "output_type": "stream",
     "text": [
      "C:\\Users\\Tapash\\AppData\\Local\\Temp\\ipykernel_16348\\3095814749.py:1: SettingWithCopyWarning: \n",
      "A value is trying to be set on a copy of a slice from a DataFrame.\n",
      "Try using .loc[row_indexer,col_indexer] = value instead\n",
      "\n",
      "See the caveats in the documentation: https://pandas.pydata.org/pandas-docs/stable/user_guide/indexing.html#returning-a-view-versus-a-copy\n",
      "  df['num_charecter']=df['text'].apply(len)\n"
     ]
    }
   ],
   "source": [
    "df['num_charecter']=df['text'].apply(len)"
   ]
  },
  {
   "cell_type": "code",
   "execution_count": 72,
   "id": "b5b58c17",
   "metadata": {},
   "outputs": [
    {
     "data": {
      "text/html": [
       "<div>\n",
       "<style scoped>\n",
       "    .dataframe tbody tr th:only-of-type {\n",
       "        vertical-align: middle;\n",
       "    }\n",
       "\n",
       "    .dataframe tbody tr th {\n",
       "        vertical-align: top;\n",
       "    }\n",
       "\n",
       "    .dataframe thead th {\n",
       "        text-align: right;\n",
       "    }\n",
       "</style>\n",
       "<table border=\"1\" class=\"dataframe\">\n",
       "  <thead>\n",
       "    <tr style=\"text-align: right;\">\n",
       "      <th></th>\n",
       "      <th>target</th>\n",
       "      <th>text</th>\n",
       "      <th>num_charecter</th>\n",
       "    </tr>\n",
       "  </thead>\n",
       "  <tbody>\n",
       "    <tr>\n",
       "      <th>4339</th>\n",
       "      <td>0</td>\n",
       "      <td>I want to sent  &amp;lt;#&amp;gt; mesages today. Thats...</td>\n",
       "      <td>66</td>\n",
       "    </tr>\n",
       "    <tr>\n",
       "      <th>506</th>\n",
       "      <td>0</td>\n",
       "      <td>Maybe westshore or hyde park village, the plac...</td>\n",
       "      <td>62</td>\n",
       "    </tr>\n",
       "    <tr>\n",
       "      <th>2818</th>\n",
       "      <td>0</td>\n",
       "      <td>Don't forget who owns you and who's private pr...</td>\n",
       "      <td>111</td>\n",
       "    </tr>\n",
       "    <tr>\n",
       "      <th>2887</th>\n",
       "      <td>0</td>\n",
       "      <td>I take it we didn't have the phone callon Frid...</td>\n",
       "      <td>95</td>\n",
       "    </tr>\n",
       "    <tr>\n",
       "      <th>3219</th>\n",
       "      <td>0</td>\n",
       "      <td>Its like that hotel dusk game i think. You sol...</td>\n",
       "      <td>72</td>\n",
       "    </tr>\n",
       "  </tbody>\n",
       "</table>\n",
       "</div>"
      ],
      "text/plain": [
       "      target                                               text  num_charecter\n",
       "4339       0  I want to sent  &lt;#&gt; mesages today. Thats...             66\n",
       "506        0  Maybe westshore or hyde park village, the plac...             62\n",
       "2818       0  Don't forget who owns you and who's private pr...            111\n",
       "2887       0  I take it we didn't have the phone callon Frid...             95\n",
       "3219       0  Its like that hotel dusk game i think. You sol...             72"
      ]
     },
     "execution_count": 72,
     "metadata": {},
     "output_type": "execute_result"
    }
   ],
   "source": [
    "df.sample(5)"
   ]
  },
  {
   "cell_type": "code",
   "execution_count": 73,
   "id": "28d62686",
   "metadata": {},
   "outputs": [
    {
     "data": {
      "text/plain": [
       "0       [Go, until, jurong, point, ,, crazy, .., Avail...\n",
       "1                [Ok, lar, ..., Joking, wif, u, oni, ...]\n",
       "2       [Free, entry, in, 2, a, wkly, comp, to, win, F...\n",
       "3       [U, dun, say, so, early, hor, ..., U, c, alrea...\n",
       "4       [Nah, I, do, n't, think, he, goes, to, usf, ,,...\n",
       "                              ...                        \n",
       "5567    [This, is, the, 2nd, time, we, have, tried, 2,...\n",
       "5568     [Will, Ì_, b, going, to, esplanade, fr, home, ?]\n",
       "5569    [Pity, ,, *, was, in, mood, for, that, ., So, ...\n",
       "5570    [The, guy, did, some, bitching, but, I, acted,...\n",
       "5571                  [Rofl, ., Its, true, to, its, name]\n",
       "Name: text, Length: 5169, dtype: object"
      ]
     },
     "execution_count": 73,
     "metadata": {},
     "output_type": "execute_result"
    }
   ],
   "source": [
    "# numbers of words\n",
    "df['text'].apply(lambda x:nltk.word_tokenize(x))"
   ]
  },
  {
   "cell_type": "code",
   "execution_count": 76,
   "id": "96660892",
   "metadata": {},
   "outputs": [
    {
     "name": "stderr",
     "output_type": "stream",
     "text": [
      "C:\\Users\\Tapash\\AppData\\Local\\Temp\\ipykernel_16348\\1118471538.py:1: SettingWithCopyWarning: \n",
      "A value is trying to be set on a copy of a slice from a DataFrame.\n",
      "Try using .loc[row_indexer,col_indexer] = value instead\n",
      "\n",
      "See the caveats in the documentation: https://pandas.pydata.org/pandas-docs/stable/user_guide/indexing.html#returning-a-view-versus-a-copy\n",
      "  df['num_words']=df['text'].apply(lambda x:len(nltk.word_tokenize(x)))\n"
     ]
    }
   ],
   "source": [
    "df['num_words']=df['text'].apply(lambda x:len(nltk.word_tokenize(x)))"
   ]
  },
  {
   "cell_type": "code",
   "execution_count": 77,
   "id": "5281b66a",
   "metadata": {},
   "outputs": [
    {
     "data": {
      "text/html": [
       "<div>\n",
       "<style scoped>\n",
       "    .dataframe tbody tr th:only-of-type {\n",
       "        vertical-align: middle;\n",
       "    }\n",
       "\n",
       "    .dataframe tbody tr th {\n",
       "        vertical-align: top;\n",
       "    }\n",
       "\n",
       "    .dataframe thead th {\n",
       "        text-align: right;\n",
       "    }\n",
       "</style>\n",
       "<table border=\"1\" class=\"dataframe\">\n",
       "  <thead>\n",
       "    <tr style=\"text-align: right;\">\n",
       "      <th></th>\n",
       "      <th>target</th>\n",
       "      <th>text</th>\n",
       "      <th>num_charecter</th>\n",
       "      <th>num_words</th>\n",
       "    </tr>\n",
       "  </thead>\n",
       "  <tbody>\n",
       "    <tr>\n",
       "      <th>143</th>\n",
       "      <td>0</td>\n",
       "      <td>I know you are. Can you pls open the back?</td>\n",
       "      <td>42</td>\n",
       "      <td>12</td>\n",
       "    </tr>\n",
       "    <tr>\n",
       "      <th>2140</th>\n",
       "      <td>0</td>\n",
       "      <td>After the drug she will be able to eat.</td>\n",
       "      <td>39</td>\n",
       "      <td>10</td>\n",
       "    </tr>\n",
       "    <tr>\n",
       "      <th>1659</th>\n",
       "      <td>0</td>\n",
       "      <td>Yeah, where's your class at?</td>\n",
       "      <td>28</td>\n",
       "      <td>8</td>\n",
       "    </tr>\n",
       "    <tr>\n",
       "      <th>387</th>\n",
       "      <td>0</td>\n",
       "      <td>Mm that time you dont like fun</td>\n",
       "      <td>30</td>\n",
       "      <td>7</td>\n",
       "    </tr>\n",
       "    <tr>\n",
       "      <th>444</th>\n",
       "      <td>0</td>\n",
       "      <td>\\HEY HEY WERETHE MONKEESPEOPLE SAY WE MONKEYAR...</td>\n",
       "      <td>66</td>\n",
       "      <td>10</td>\n",
       "    </tr>\n",
       "  </tbody>\n",
       "</table>\n",
       "</div>"
      ],
      "text/plain": [
       "      target                                               text  \\\n",
       "143        0         I know you are. Can you pls open the back?   \n",
       "2140       0            After the drug she will be able to eat.   \n",
       "1659       0                       Yeah, where's your class at?   \n",
       "387        0                     Mm that time you dont like fun   \n",
       "444        0  \\HEY HEY WERETHE MONKEESPEOPLE SAY WE MONKEYAR...   \n",
       "\n",
       "      num_charecter  num_words  \n",
       "143              42         12  \n",
       "2140             39         10  \n",
       "1659             28          8  \n",
       "387              30          7  \n",
       "444              66         10  "
      ]
     },
     "execution_count": 77,
     "metadata": {},
     "output_type": "execute_result"
    }
   ],
   "source": [
    "df.sample(5)"
   ]
  },
  {
   "cell_type": "code",
   "execution_count": 90,
   "id": "846b5a49",
   "metadata": {},
   "outputs": [
    {
     "name": "stderr",
     "output_type": "stream",
     "text": [
      "C:\\Users\\Tapash\\AppData\\Local\\Temp\\ipykernel_16348\\325126020.py:2: SettingWithCopyWarning: \n",
      "A value is trying to be set on a copy of a slice from a DataFrame.\n",
      "Try using .loc[row_indexer,col_indexer] = value instead\n",
      "\n",
      "See the caveats in the documentation: https://pandas.pydata.org/pandas-docs/stable/user_guide/indexing.html#returning-a-view-versus-a-copy\n",
      "  df['num_senctences']=df['text'].apply(lambda x:len(nltk.sent_tokenize(x)))\n"
     ]
    }
   ],
   "source": [
    "# number of sentences\n",
    "df['num_senctences']=df['text'].apply(lambda x:len(nltk.sent_tokenize(x)))\n"
   ]
  },
  {
   "cell_type": "code",
   "execution_count": 91,
   "id": "c580aa4c",
   "metadata": {},
   "outputs": [
    {
     "data": {
      "text/html": [
       "<div>\n",
       "<style scoped>\n",
       "    .dataframe tbody tr th:only-of-type {\n",
       "        vertical-align: middle;\n",
       "    }\n",
       "\n",
       "    .dataframe tbody tr th {\n",
       "        vertical-align: top;\n",
       "    }\n",
       "\n",
       "    .dataframe thead th {\n",
       "        text-align: right;\n",
       "    }\n",
       "</style>\n",
       "<table border=\"1\" class=\"dataframe\">\n",
       "  <thead>\n",
       "    <tr style=\"text-align: right;\">\n",
       "      <th></th>\n",
       "      <th>target</th>\n",
       "      <th>text</th>\n",
       "      <th>num_charecter</th>\n",
       "      <th>num_words</th>\n",
       "      <th>num_senctences</th>\n",
       "    </tr>\n",
       "  </thead>\n",
       "  <tbody>\n",
       "    <tr>\n",
       "      <th>0</th>\n",
       "      <td>0</td>\n",
       "      <td>Go until jurong point, crazy.. Available only ...</td>\n",
       "      <td>111</td>\n",
       "      <td>24</td>\n",
       "      <td>2</td>\n",
       "    </tr>\n",
       "    <tr>\n",
       "      <th>1</th>\n",
       "      <td>0</td>\n",
       "      <td>Ok lar... Joking wif u oni...</td>\n",
       "      <td>29</td>\n",
       "      <td>8</td>\n",
       "      <td>2</td>\n",
       "    </tr>\n",
       "    <tr>\n",
       "      <th>2</th>\n",
       "      <td>1</td>\n",
       "      <td>Free entry in 2 a wkly comp to win FA Cup fina...</td>\n",
       "      <td>155</td>\n",
       "      <td>37</td>\n",
       "      <td>2</td>\n",
       "    </tr>\n",
       "    <tr>\n",
       "      <th>3</th>\n",
       "      <td>0</td>\n",
       "      <td>U dun say so early hor... U c already then say...</td>\n",
       "      <td>49</td>\n",
       "      <td>13</td>\n",
       "      <td>1</td>\n",
       "    </tr>\n",
       "    <tr>\n",
       "      <th>4</th>\n",
       "      <td>0</td>\n",
       "      <td>Nah I don't think he goes to usf, he lives aro...</td>\n",
       "      <td>61</td>\n",
       "      <td>15</td>\n",
       "      <td>1</td>\n",
       "    </tr>\n",
       "  </tbody>\n",
       "</table>\n",
       "</div>"
      ],
      "text/plain": [
       "   target                                               text  num_charecter  \\\n",
       "0       0  Go until jurong point, crazy.. Available only ...            111   \n",
       "1       0                      Ok lar... Joking wif u oni...             29   \n",
       "2       1  Free entry in 2 a wkly comp to win FA Cup fina...            155   \n",
       "3       0  U dun say so early hor... U c already then say...             49   \n",
       "4       0  Nah I don't think he goes to usf, he lives aro...             61   \n",
       "\n",
       "   num_words  num_senctences  \n",
       "0         24               2  \n",
       "1          8               2  \n",
       "2         37               2  \n",
       "3         13               1  \n",
       "4         15               1  "
      ]
     },
     "execution_count": 91,
     "metadata": {},
     "output_type": "execute_result"
    }
   ],
   "source": [
    "df.head()"
   ]
  },
  {
   "cell_type": "code",
   "execution_count": 92,
   "id": "fb54e441",
   "metadata": {},
   "outputs": [
    {
     "data": {
      "text/html": [
       "<div>\n",
       "<style scoped>\n",
       "    .dataframe tbody tr th:only-of-type {\n",
       "        vertical-align: middle;\n",
       "    }\n",
       "\n",
       "    .dataframe tbody tr th {\n",
       "        vertical-align: top;\n",
       "    }\n",
       "\n",
       "    .dataframe thead th {\n",
       "        text-align: right;\n",
       "    }\n",
       "</style>\n",
       "<table border=\"1\" class=\"dataframe\">\n",
       "  <thead>\n",
       "    <tr style=\"text-align: right;\">\n",
       "      <th></th>\n",
       "      <th>num_charecter</th>\n",
       "      <th>num_words</th>\n",
       "      <th>num_senctences</th>\n",
       "    </tr>\n",
       "  </thead>\n",
       "  <tbody>\n",
       "    <tr>\n",
       "      <th>count</th>\n",
       "      <td>5169.000000</td>\n",
       "      <td>5169.000000</td>\n",
       "      <td>5169.000000</td>\n",
       "    </tr>\n",
       "    <tr>\n",
       "      <th>mean</th>\n",
       "      <td>78.977945</td>\n",
       "      <td>18.455794</td>\n",
       "      <td>1.965564</td>\n",
       "    </tr>\n",
       "    <tr>\n",
       "      <th>std</th>\n",
       "      <td>58.236293</td>\n",
       "      <td>13.324758</td>\n",
       "      <td>1.448541</td>\n",
       "    </tr>\n",
       "    <tr>\n",
       "      <th>min</th>\n",
       "      <td>2.000000</td>\n",
       "      <td>1.000000</td>\n",
       "      <td>1.000000</td>\n",
       "    </tr>\n",
       "    <tr>\n",
       "      <th>25%</th>\n",
       "      <td>36.000000</td>\n",
       "      <td>9.000000</td>\n",
       "      <td>1.000000</td>\n",
       "    </tr>\n",
       "    <tr>\n",
       "      <th>50%</th>\n",
       "      <td>60.000000</td>\n",
       "      <td>15.000000</td>\n",
       "      <td>1.000000</td>\n",
       "    </tr>\n",
       "    <tr>\n",
       "      <th>75%</th>\n",
       "      <td>117.000000</td>\n",
       "      <td>26.000000</td>\n",
       "      <td>2.000000</td>\n",
       "    </tr>\n",
       "    <tr>\n",
       "      <th>max</th>\n",
       "      <td>910.000000</td>\n",
       "      <td>220.000000</td>\n",
       "      <td>38.000000</td>\n",
       "    </tr>\n",
       "  </tbody>\n",
       "</table>\n",
       "</div>"
      ],
      "text/plain": [
       "       num_charecter    num_words  num_senctences\n",
       "count    5169.000000  5169.000000     5169.000000\n",
       "mean       78.977945    18.455794        1.965564\n",
       "std        58.236293    13.324758        1.448541\n",
       "min         2.000000     1.000000        1.000000\n",
       "25%        36.000000     9.000000        1.000000\n",
       "50%        60.000000    15.000000        1.000000\n",
       "75%       117.000000    26.000000        2.000000\n",
       "max       910.000000   220.000000       38.000000"
      ]
     },
     "execution_count": 92,
     "metadata": {},
     "output_type": "execute_result"
    }
   ],
   "source": [
    "df[['num_charecter','num_words','num_senctences']].describe()"
   ]
  },
  {
   "cell_type": "code",
   "execution_count": 97,
   "id": "4f42ce0f",
   "metadata": {},
   "outputs": [
    {
     "data": {
      "text/html": [
       "<div>\n",
       "<style scoped>\n",
       "    .dataframe tbody tr th:only-of-type {\n",
       "        vertical-align: middle;\n",
       "    }\n",
       "\n",
       "    .dataframe tbody tr th {\n",
       "        vertical-align: top;\n",
       "    }\n",
       "\n",
       "    .dataframe thead th {\n",
       "        text-align: right;\n",
       "    }\n",
       "</style>\n",
       "<table border=\"1\" class=\"dataframe\">\n",
       "  <thead>\n",
       "    <tr style=\"text-align: right;\">\n",
       "      <th></th>\n",
       "      <th>num_charecter</th>\n",
       "      <th>num_words</th>\n",
       "      <th>num_senctences</th>\n",
       "    </tr>\n",
       "  </thead>\n",
       "  <tbody>\n",
       "    <tr>\n",
       "      <th>count</th>\n",
       "      <td>4516.000000</td>\n",
       "      <td>4516.000000</td>\n",
       "      <td>4516.000000</td>\n",
       "    </tr>\n",
       "    <tr>\n",
       "      <th>mean</th>\n",
       "      <td>70.459256</td>\n",
       "      <td>17.123782</td>\n",
       "      <td>1.820195</td>\n",
       "    </tr>\n",
       "    <tr>\n",
       "      <th>std</th>\n",
       "      <td>56.358207</td>\n",
       "      <td>13.493970</td>\n",
       "      <td>1.383657</td>\n",
       "    </tr>\n",
       "    <tr>\n",
       "      <th>min</th>\n",
       "      <td>2.000000</td>\n",
       "      <td>1.000000</td>\n",
       "      <td>1.000000</td>\n",
       "    </tr>\n",
       "    <tr>\n",
       "      <th>25%</th>\n",
       "      <td>34.000000</td>\n",
       "      <td>8.000000</td>\n",
       "      <td>1.000000</td>\n",
       "    </tr>\n",
       "    <tr>\n",
       "      <th>50%</th>\n",
       "      <td>52.000000</td>\n",
       "      <td>13.000000</td>\n",
       "      <td>1.000000</td>\n",
       "    </tr>\n",
       "    <tr>\n",
       "      <th>75%</th>\n",
       "      <td>90.000000</td>\n",
       "      <td>22.000000</td>\n",
       "      <td>2.000000</td>\n",
       "    </tr>\n",
       "    <tr>\n",
       "      <th>max</th>\n",
       "      <td>910.000000</td>\n",
       "      <td>220.000000</td>\n",
       "      <td>38.000000</td>\n",
       "    </tr>\n",
       "  </tbody>\n",
       "</table>\n",
       "</div>"
      ],
      "text/plain": [
       "       num_charecter    num_words  num_senctences\n",
       "count    4516.000000  4516.000000     4516.000000\n",
       "mean       70.459256    17.123782        1.820195\n",
       "std        56.358207    13.493970        1.383657\n",
       "min         2.000000     1.000000        1.000000\n",
       "25%        34.000000     8.000000        1.000000\n",
       "50%        52.000000    13.000000        1.000000\n",
       "75%        90.000000    22.000000        2.000000\n",
       "max       910.000000   220.000000       38.000000"
      ]
     },
     "execution_count": 97,
     "metadata": {},
     "output_type": "execute_result"
    }
   ],
   "source": [
    "# ham\n",
    "df[df['target']==0][['num_charecter','num_words','num_senctences']].describe()"
   ]
  },
  {
   "cell_type": "code",
   "execution_count": 98,
   "id": "fcf22d56",
   "metadata": {},
   "outputs": [
    {
     "data": {
      "text/html": [
       "<div>\n",
       "<style scoped>\n",
       "    .dataframe tbody tr th:only-of-type {\n",
       "        vertical-align: middle;\n",
       "    }\n",
       "\n",
       "    .dataframe tbody tr th {\n",
       "        vertical-align: top;\n",
       "    }\n",
       "\n",
       "    .dataframe thead th {\n",
       "        text-align: right;\n",
       "    }\n",
       "</style>\n",
       "<table border=\"1\" class=\"dataframe\">\n",
       "  <thead>\n",
       "    <tr style=\"text-align: right;\">\n",
       "      <th></th>\n",
       "      <th>num_charecter</th>\n",
       "      <th>num_words</th>\n",
       "      <th>num_senctences</th>\n",
       "    </tr>\n",
       "  </thead>\n",
       "  <tbody>\n",
       "    <tr>\n",
       "      <th>count</th>\n",
       "      <td>653.000000</td>\n",
       "      <td>653.000000</td>\n",
       "      <td>653.000000</td>\n",
       "    </tr>\n",
       "    <tr>\n",
       "      <th>mean</th>\n",
       "      <td>137.891271</td>\n",
       "      <td>27.667688</td>\n",
       "      <td>2.970904</td>\n",
       "    </tr>\n",
       "    <tr>\n",
       "      <th>std</th>\n",
       "      <td>30.137753</td>\n",
       "      <td>7.008418</td>\n",
       "      <td>1.488425</td>\n",
       "    </tr>\n",
       "    <tr>\n",
       "      <th>min</th>\n",
       "      <td>13.000000</td>\n",
       "      <td>2.000000</td>\n",
       "      <td>1.000000</td>\n",
       "    </tr>\n",
       "    <tr>\n",
       "      <th>25%</th>\n",
       "      <td>132.000000</td>\n",
       "      <td>25.000000</td>\n",
       "      <td>2.000000</td>\n",
       "    </tr>\n",
       "    <tr>\n",
       "      <th>50%</th>\n",
       "      <td>149.000000</td>\n",
       "      <td>29.000000</td>\n",
       "      <td>3.000000</td>\n",
       "    </tr>\n",
       "    <tr>\n",
       "      <th>75%</th>\n",
       "      <td>157.000000</td>\n",
       "      <td>32.000000</td>\n",
       "      <td>4.000000</td>\n",
       "    </tr>\n",
       "    <tr>\n",
       "      <th>max</th>\n",
       "      <td>224.000000</td>\n",
       "      <td>46.000000</td>\n",
       "      <td>9.000000</td>\n",
       "    </tr>\n",
       "  </tbody>\n",
       "</table>\n",
       "</div>"
      ],
      "text/plain": [
       "       num_charecter   num_words  num_senctences\n",
       "count     653.000000  653.000000      653.000000\n",
       "mean      137.891271   27.667688        2.970904\n",
       "std        30.137753    7.008418        1.488425\n",
       "min        13.000000    2.000000        1.000000\n",
       "25%       132.000000   25.000000        2.000000\n",
       "50%       149.000000   29.000000        3.000000\n",
       "75%       157.000000   32.000000        4.000000\n",
       "max       224.000000   46.000000        9.000000"
      ]
     },
     "execution_count": 98,
     "metadata": {},
     "output_type": "execute_result"
    }
   ],
   "source": [
    "# spam\n",
    "df[df['target']==1][['num_charecter','num_words','num_senctences']].describe()"
   ]
  },
  {
   "cell_type": "code",
   "execution_count": 99,
   "id": "8df87e41",
   "metadata": {},
   "outputs": [],
   "source": [
    "# we can show it by visulization\n",
    "import seaborn as sns"
   ]
  },
  {
   "cell_type": "code",
   "execution_count": 106,
   "id": "a924e320",
   "metadata": {},
   "outputs": [
    {
     "data": {
      "text/plain": [
       "<Axes: xlabel='num_charecter', ylabel='Count'>"
      ]
     },
     "execution_count": 106,
     "metadata": {},
     "output_type": "execute_result"
    },
    {
     "data": {
      "image/png": "[encoded data removed]",
      "text/plain": [
       "<Figure size 640x480 with 1 Axes>"
      ]
     },
     "metadata": {},
     "output_type": "display_data"
    }
   ],
   "source": [
    "sns.histplot(df[df['target']==0]['num_charecter'])\n",
    "sns.histplot(df[df['target']==1]['num_charecter'],color='red')\n"
   ]
  },
  {
   "cell_type": "code",
   "execution_count": 107,
   "id": "09e0a97e",
   "metadata": {},
   "outputs": [
    {
     "data": {
      "text/plain": [
       "<Axes: xlabel='num_words', ylabel='Count'>"
      ]
     },
     "execution_count": 107,
     "metadata": {},
     "output_type": "execute_result"
    },
    {
     "data": {
      "image/png": "[encoded data removed]",
      "text/plain": [
       "<Figure size 640x480 with 1 Axes>"
      ]
     },
     "metadata": {},
     "output_type": "display_data"
    }
   ],
   "source": [
    "sns.histplot(df[df['target']==0]['num_words'])\n",
    "sns.histplot(df[df['target']==1]['num_words'],color='red')"
   ]
  },
  {
   "cell_type": "code",
   "execution_count": 108,
   "id": "6a08a78b",
   "metadata": {},
   "outputs": [
    {
     "data": {
      "text/plain": [
       "<Axes: xlabel='num_senctences', ylabel='Count'>"
      ]
     },
     "execution_count": 108,
     "metadata": {},
     "output_type": "execute_result"
    },
    {
     "data": {
      "image/png": "[encoded data removed]",
      "text/plain": [
       "<Figure size 640x480 with 1 Axes>"
      ]
     },
     "metadata": {},
     "output_type": "display_data"
    }
   ],
   "source": [
    "sns.histplot(df[df['target']==0]['num_senctences'])\n",
    "sns.histplot(df[df['target']==1]['num_senctences'],color='red')"
   ]
  },
  {
   "cell_type": "code",
   "execution_count": 109,
   "id": "9a694f56",
   "metadata": {},
   "outputs": [
    {
     "name": "stderr",
     "output_type": "stream",
     "text": [
      "C:\\ProgramData\\anaconda3\\Lib\\site-packages\\seaborn\\axisgrid.py:118: UserWarning: The figure layout has changed to tight\n",
      "  self._figure.tight_layout(*args, **kwargs)\n"
     ]
    },
    {
     "data": {
      "text/plain": [
       "<seaborn.axisgrid.PairGrid at 0x203ffd2f0d0>"
      ]
     },
     "execution_count": 109,
     "metadata": {},
     "output_type": "execute_result"
    },
    {
     "data": {
      "image/png": "[encoded data removed]",
      "text/plain": [
       "<Figure size 808.875x750 with 12 Axes>"
      ]
     },
     "metadata": {},
     "output_type": "display_data"
    }
   ],
   "source": [
    "# reletion between them\n",
    "sns.pairplot(df,hue='target')"
   ]
  },
  {
   "cell_type": "code",
   "execution_count": 110,
   "id": "ef573d57",
   "metadata": {},
   "outputs": [],
   "source": [
    "# 0-> ham\n",
    "# 1 -> spam"
   ]
  },
  {
   "cell_type": "code",
   "execution_count": 117,
   "id": "ab38e533",
   "metadata": {},
   "outputs": [
    {
     "data": {
      "text/plain": [
       "<Axes: >"
      ]
     },
     "execution_count": 117,
     "metadata": {},
     "output_type": "execute_result"
    },
    {
     "data": {
      "image/png": "[encoded data removed]",
      "text/plain": [
       "<Figure size 640x480 with 2 Axes>"
      ]
     },
     "metadata": {},
     "output_type": "display_data"
    }
   ],
   "source": [
    "sns.heatmap(df.corr(numeric_only=True),annot=True)"
   ]
  },
  {
   "cell_type": "markdown",
   "id": "94705aab",
   "metadata": {},
   "source": [
    "# Text Preprocessing"
   ]
  },
  {
   "cell_type": "markdown",
   "id": "55ac6a5e",
   "metadata": {},
   "source": [
    "- lower case\n",
    "- tokenization\n",
    "- remove special charecter\n",
    "- remove stop word and punctuation\n",
    "- stemming"
   ]
  },
  {
   "cell_type": "code",
   "execution_count": 132,
   "id": "b21a31a3",
   "metadata": {},
   "outputs": [
    {
     "data": {
      "text/plain": [
       "['a',\n",
       " 'about',\n",
       " 'above',\n",
       " 'after',\n",
       " 'again',\n",
       " 'against',\n",
       " 'ain',\n",
       " 'all',\n",
       " 'am',\n",
       " 'an',\n",
       " 'and',\n",
       " 'any',\n",
       " 'are',\n",
       " 'aren',\n",
       " \"aren't\",\n",
       " 'as',\n",
       " 'at',\n",
       " 'be',\n",
       " 'because',\n",
       " 'been',\n",
       " 'before',\n",
       " 'being',\n",
       " 'below',\n",
       " 'between',\n",
       " 'both',\n",
       " 'but',\n",
       " 'by',\n",
       " 'can',\n",
       " 'couldn',\n",
       " \"couldn't\",\n",
       " 'd',\n",
       " 'did',\n",
       " 'didn',\n",
       " \"didn't\",\n",
       " 'do',\n",
       " 'does',\n",
       " 'doesn',\n",
       " \"doesn't\",\n",
       " 'doing',\n",
       " 'don',\n",
       " \"don't\",\n",
       " 'down',\n",
       " 'during',\n",
       " 'each',\n",
       " 'few',\n",
       " 'for',\n",
       " 'from',\n",
       " 'further',\n",
       " 'had',\n",
       " 'hadn',\n",
       " \"hadn't\",\n",
       " 'has',\n",
       " 'hasn',\n",
       " \"hasn't\",\n",
       " 'have',\n",
       " 'haven',\n",
       " \"haven't\",\n",
       " 'having',\n",
       " 'he',\n",
       " \"he'd\",\n",
       " \"he'll\",\n",
       " 'her',\n",
       " 'here',\n",
       " 'hers',\n",
       " 'herself',\n",
       " \"he's\",\n",
       " 'him',\n",
       " 'himself',\n",
       " 'his',\n",
       " 'how',\n",
       " 'i',\n",
       " \"i'd\",\n",
       " 'if',\n",
       " \"i'll\",\n",
       " \"i'm\",\n",
       " 'in',\n",
       " 'into',\n",
       " 'is',\n",
       " 'isn',\n",
       " \"isn't\",\n",
       " 'it',\n",
       " \"it'd\",\n",
       " \"it'll\",\n",
       " \"it's\",\n",
       " 'its',\n",
       " 'itself',\n",
       " \"i've\",\n",
       " 'just',\n",
       " 'll',\n",
       " 'm',\n",
       " 'ma',\n",
       " 'me',\n",
       " 'mightn',\n",
       " \"mightn't\",\n",
       " 'more',\n",
       " 'most',\n",
       " 'mustn',\n",
       " \"mustn't\",\n",
       " 'my',\n",
       " 'myself',\n",
       " 'needn',\n",
       " \"needn't\",\n",
       " 'no',\n",
       " 'nor',\n",
       " 'not',\n",
       " 'now',\n",
       " 'o',\n",
       " 'of',\n",
       " 'off',\n",
       " 'on',\n",
       " 'once',\n",
       " 'only',\n",
       " 'or',\n",
       " 'other',\n",
       " 'our',\n",
       " 'ours',\n",
       " 'ourselves',\n",
       " 'out',\n",
       " 'over',\n",
       " 'own',\n",
       " 're',\n",
       " 's',\n",
       " 'same',\n",
       " 'shan',\n",
       " \"shan't\",\n",
       " 'she',\n",
       " \"she'd\",\n",
       " \"she'll\",\n",
       " \"she's\",\n",
       " 'should',\n",
       " 'shouldn',\n",
       " \"shouldn't\",\n",
       " \"should've\",\n",
       " 'so',\n",
       " 'some',\n",
       " 'such',\n",
       " 't',\n",
       " 'than',\n",
       " 'that',\n",
       " \"that'll\",\n",
       " 'the',\n",
       " 'their',\n",
       " 'theirs',\n",
       " 'them',\n",
       " 'themselves',\n",
       " 'then',\n",
       " 'there',\n",
       " 'these',\n",
       " 'they',\n",
       " \"they'd\",\n",
       " \"they'll\",\n",
       " \"they're\",\n",
       " \"they've\",\n",
       " 'this',\n",
       " 'those',\n",
       " 'through',\n",
       " 'to',\n",
       " 'too',\n",
       " 'under',\n",
       " 'until',\n",
       " 'up',\n",
       " 've',\n",
       " 'very',\n",
       " 'was',\n",
       " 'wasn',\n",
       " \"wasn't\",\n",
       " 'we',\n",
       " \"we'd\",\n",
       " \"we'll\",\n",
       " \"we're\",\n",
       " 'were',\n",
       " 'weren',\n",
       " \"weren't\",\n",
       " \"we've\",\n",
       " 'what',\n",
       " 'when',\n",
       " 'where',\n",
       " 'which',\n",
       " 'while',\n",
       " 'who',\n",
       " 'whom',\n",
       " 'why',\n",
       " 'will',\n",
       " 'with',\n",
       " 'won',\n",
       " \"won't\",\n",
       " 'wouldn',\n",
       " \"wouldn't\",\n",
       " 'y',\n",
       " 'you',\n",
       " \"you'd\",\n",
       " \"you'll\",\n",
       " 'your',\n",
       " \"you're\",\n",
       " 'yours',\n",
       " 'yourself',\n",
       " 'yourselves',\n",
       " \"you've\"]"
      ]
     },
     "execution_count": 132,
     "metadata": {},
     "output_type": "execute_result"
    }
   ],
   "source": [
    "from nltk.corpus import stopwords\n",
    "stopwords.words('english')"
   ]
  },
  {
   "cell_type": "code",
   "execution_count": 133,
   "id": "86b428a0",
   "metadata": {},
   "outputs": [
    {
     "data": {
      "text/plain": [
       "'!\"#$%&\\'()*+,-./:;<=>?@[\\\\]^_`{|}~'"
      ]
     },
     "execution_count": 133,
     "metadata": {},
     "output_type": "execute_result"
    }
   ],
   "source": [
    "import string\n",
    "string.punctuation"
   ]
  },
  {
   "cell_type": "code",
   "execution_count": 143,
   "id": "9d4bd759",
   "metadata": {},
   "outputs": [
    {
     "data": {
      "text/plain": [
       "'danc'"
      ]
     },
     "execution_count": 143,
     "metadata": {},
     "output_type": "execute_result"
    }
   ],
   "source": [
    "from nltk.stem.porter import PorterStemmer\n",
    "ps=PorterStemmer()\n",
    "ps.stem('dancing')"
   ]
  },
  {
   "cell_type": "code",
   "execution_count": 148,
   "id": "c575e6fb",
   "metadata": {},
   "outputs": [],
   "source": [
    "def transform_text(text):\n",
    "    # lower case\n",
    "    text=text.lower()\n",
    "    \n",
    "    # tokenization\n",
    "    text=nltk.word_tokenize(text)\n",
    "    \n",
    "    # removing special charecter\n",
    "    y=[]\n",
    "    for i in text:\n",
    "        if i.isalnum():\n",
    "            y.append(i)\n",
    "    text=y[:]\n",
    "    y.clear()\n",
    "            \n",
    "    # removing special charecter and punctuation\n",
    "    for i in text:\n",
    "        if i not in stopwords.words('english') and i not in string.punctuation:\n",
    "            y.append(i)\n",
    "    text=y[:]\n",
    "    y.clear()\n",
    "    \n",
    "    # stemming\n",
    "    for i in text:\n",
    "        y.append(ps.stem(i))\n",
    "\n",
    "        \n",
    "            \n",
    "    \n",
    "    return \" \".join(y)"
   ]
  },
  {
   "cell_type": "code",
   "execution_count": 152,
   "id": "e6b38071",
   "metadata": {},
   "outputs": [
    {
     "name": "stderr",
     "output_type": "stream",
     "text": [
      "C:\\Users\\Tapash\\AppData\\Local\\Temp\\ipykernel_16348\\4139466366.py:1: SettingWithCopyWarning: \n",
      "A value is trying to be set on a copy of a slice from a DataFrame.\n",
      "Try using .loc[row_indexer,col_indexer] = value instead\n",
      "\n",
      "See the caveats in the documentation: https://pandas.pydata.org/pandas-docs/stable/user_guide/indexing.html#returning-a-view-versus-a-copy\n",
      "  df['transformed_text']=df['text'].apply(transform_text)\n"
     ]
    }
   ],
   "source": [
    "df['transformed_text']=df['text'].apply(transform_text)"
   ]
  },
  {
   "cell_type": "code",
   "execution_count": 153,
   "id": "f23f4e44",
   "metadata": {},
   "outputs": [
    {
     "data": {
      "text/html": [
       "<div>\n",
       "<style scoped>\n",
       "    .dataframe tbody tr th:only-of-type {\n",
       "        vertical-align: middle;\n",
       "    }\n",
       "\n",
       "    .dataframe tbody tr th {\n",
       "        vertical-align: top;\n",
       "    }\n",
       "\n",
       "    .dataframe thead th {\n",
       "        text-align: right;\n",
       "    }\n",
       "</style>\n",
       "<table border=\"1\" class=\"dataframe\">\n",
       "  <thead>\n",
       "    <tr style=\"text-align: right;\">\n",
       "      <th></th>\n",
       "      <th>target</th>\n",
       "      <th>text</th>\n",
       "      <th>num_charecter</th>\n",
       "      <th>num_words</th>\n",
       "      <th>num_senctences</th>\n",
       "      <th>transformed_text</th>\n",
       "    </tr>\n",
       "  </thead>\n",
       "  <tbody>\n",
       "    <tr>\n",
       "      <th>0</th>\n",
       "      <td>0</td>\n",
       "      <td>Go until jurong point, crazy.. Available only ...</td>\n",
       "      <td>111</td>\n",
       "      <td>24</td>\n",
       "      <td>2</td>\n",
       "      <td>go jurong point crazi avail bugi n great world...</td>\n",
       "    </tr>\n",
       "    <tr>\n",
       "      <th>1</th>\n",
       "      <td>0</td>\n",
       "      <td>Ok lar... Joking wif u oni...</td>\n",
       "      <td>29</td>\n",
       "      <td>8</td>\n",
       "      <td>2</td>\n",
       "      <td>ok lar joke wif u oni</td>\n",
       "    </tr>\n",
       "    <tr>\n",
       "      <th>2</th>\n",
       "      <td>1</td>\n",
       "      <td>Free entry in 2 a wkly comp to win FA Cup fina...</td>\n",
       "      <td>155</td>\n",
       "      <td>37</td>\n",
       "      <td>2</td>\n",
       "      <td>free entri 2 wkli comp win fa cup final tkt 21...</td>\n",
       "    </tr>\n",
       "    <tr>\n",
       "      <th>3</th>\n",
       "      <td>0</td>\n",
       "      <td>U dun say so early hor... U c already then say...</td>\n",
       "      <td>49</td>\n",
       "      <td>13</td>\n",
       "      <td>1</td>\n",
       "      <td>u dun say earli hor u c alreadi say</td>\n",
       "    </tr>\n",
       "    <tr>\n",
       "      <th>4</th>\n",
       "      <td>0</td>\n",
       "      <td>Nah I don't think he goes to usf, he lives aro...</td>\n",
       "      <td>61</td>\n",
       "      <td>15</td>\n",
       "      <td>1</td>\n",
       "      <td>nah think goe usf live around though</td>\n",
       "    </tr>\n",
       "  </tbody>\n",
       "</table>\n",
       "</div>"
      ],
      "text/plain": [
       "   target                                               text  num_charecter  \\\n",
       "0       0  Go until jurong point, crazy.. Available only ...            111   \n",
       "1       0                      Ok lar... Joking wif u oni...             29   \n",
       "2       1  Free entry in 2 a wkly comp to win FA Cup fina...            155   \n",
       "3       0  U dun say so early hor... U c already then say...             49   \n",
       "4       0  Nah I don't think he goes to usf, he lives aro...             61   \n",
       "\n",
       "   num_words  num_senctences  \\\n",
       "0         24               2   \n",
       "1          8               2   \n",
       "2         37               2   \n",
       "3         13               1   \n",
       "4         15               1   \n",
       "\n",
       "                                    transformed_text  \n",
       "0  go jurong point crazi avail bugi n great world...  \n",
       "1                              ok lar joke wif u oni  \n",
       "2  free entri 2 wkli comp win fa cup final tkt 21...  \n",
       "3                u dun say earli hor u c alreadi say  \n",
       "4               nah think goe usf live around though  "
      ]
     },
     "execution_count": 153,
     "metadata": {},
     "output_type": "execute_result"
    }
   ],
   "source": [
    "df.head()"
   ]
  },
  {
   "cell_type": "code",
   "execution_count": 166,
   "id": "058b032e",
   "metadata": {},
   "outputs": [],
   "source": [
    "# wordcloud\n",
    "\n",
    "from wordcloud import WordCloud\n",
    "wc=WordCloud(width=500,height=500,min_font_size=10,background_color='white')"
   ]
  },
  {
   "cell_type": "code",
   "execution_count": 167,
   "id": "3acb4798",
   "metadata": {},
   "outputs": [],
   "source": [
    "spam_wc=wc.generate(df[df['target'] == 1]['transformed_text'].str.cat(sep=\" \"))\n"
   ]
  },
  {
   "cell_type": "code",
   "execution_count": 168,
   "id": "8aefc39d",
   "metadata": {},
   "outputs": [
    {
     "data": {
      "text/plain": [
       "<matplotlib.image.AxesImage at 0x203853e5010>"
      ]
     },
     "execution_count": 168,
     "metadata": {},
     "output_type": "execute_result"
    },
    {
     "data": {
      "image/png": "[encoded data removed]",
      "text/plain": [
       "<Figure size 640x480 with 1 Axes>"
      ]
     },
     "metadata": {},
     "output_type": "display_data"
    }
   ],
   "source": [
    "plt.imshow(spam_wc)"
   ]
  },
  {
   "cell_type": "code",
   "execution_count": 169,
   "id": "3c9ff08d",
   "metadata": {},
   "outputs": [],
   "source": [
    "spam_wc=wc.generate(df[df['target'] == 0]['transformed_text'].str.cat(sep=\" \"))\n"
   ]
  },
  {
   "cell_type": "code",
   "execution_count": 171,
   "id": "c5346dde",
   "metadata": {},
   "outputs": [
    {
     "data": {
      "text/plain": [
       "<matplotlib.image.AxesImage at 0x203850f0410>"
      ]
     },
     "execution_count": 171,
     "metadata": {},
     "output_type": "execute_result"
    },
    {
     "data": {
      "image/png": "[encoded data removed]",
      "text/plain": [
       "<Figure size 640x480 with 1 Axes>"
      ]
     },
     "metadata": {},
     "output_type": "display_data"
    }
   ],
   "source": [
    "plt.imshow(spam_wc)"
   ]
  },
  {
   "cell_type": "code",
   "execution_count": 172,
   "id": "cf6c41d6",
   "metadata": {},
   "outputs": [
    {
     "data": {
      "text/html": [
       "<div>\n",
       "<style scoped>\n",
       "    .dataframe tbody tr th:only-of-type {\n",
       "        vertical-align: middle;\n",
       "    }\n",
       "\n",
       "    .dataframe tbody tr th {\n",
       "        vertical-align: top;\n",
       "    }\n",
       "\n",
       "    .dataframe thead th {\n",
       "        text-align: right;\n",
       "    }\n",
       "</style>\n",
       "<table border=\"1\" class=\"dataframe\">\n",
       "  <thead>\n",
       "    <tr style=\"text-align: right;\">\n",
       "      <th></th>\n",
       "      <th>target</th>\n",
       "      <th>text</th>\n",
       "      <th>num_charecter</th>\n",
       "      <th>num_words</th>\n",
       "      <th>num_senctences</th>\n",
       "      <th>transformed_text</th>\n",
       "    </tr>\n",
       "  </thead>\n",
       "  <tbody>\n",
       "    <tr>\n",
       "      <th>0</th>\n",
       "      <td>0</td>\n",
       "      <td>Go until jurong point, crazy.. Available only ...</td>\n",
       "      <td>111</td>\n",
       "      <td>24</td>\n",
       "      <td>2</td>\n",
       "      <td>go jurong point crazi avail bugi n great world...</td>\n",
       "    </tr>\n",
       "    <tr>\n",
       "      <th>1</th>\n",
       "      <td>0</td>\n",
       "      <td>Ok lar... Joking wif u oni...</td>\n",
       "      <td>29</td>\n",
       "      <td>8</td>\n",
       "      <td>2</td>\n",
       "      <td>ok lar joke wif u oni</td>\n",
       "    </tr>\n",
       "    <tr>\n",
       "      <th>2</th>\n",
       "      <td>1</td>\n",
       "      <td>Free entry in 2 a wkly comp to win FA Cup fina...</td>\n",
       "      <td>155</td>\n",
       "      <td>37</td>\n",
       "      <td>2</td>\n",
       "      <td>free entri 2 wkli comp win fa cup final tkt 21...</td>\n",
       "    </tr>\n",
       "    <tr>\n",
       "      <th>3</th>\n",
       "      <td>0</td>\n",
       "      <td>U dun say so early hor... U c already then say...</td>\n",
       "      <td>49</td>\n",
       "      <td>13</td>\n",
       "      <td>1</td>\n",
       "      <td>u dun say earli hor u c alreadi say</td>\n",
       "    </tr>\n",
       "    <tr>\n",
       "      <th>4</th>\n",
       "      <td>0</td>\n",
       "      <td>Nah I don't think he goes to usf, he lives aro...</td>\n",
       "      <td>61</td>\n",
       "      <td>15</td>\n",
       "      <td>1</td>\n",
       "      <td>nah think goe usf live around though</td>\n",
       "    </tr>\n",
       "  </tbody>\n",
       "</table>\n",
       "</div>"
      ],
      "text/plain": [
       "   target                                               text  num_charecter  \\\n",
       "0       0  Go until jurong point, crazy.. Available only ...            111   \n",
       "1       0                      Ok lar... Joking wif u oni...             29   \n",
       "2       1  Free entry in 2 a wkly comp to win FA Cup fina...            155   \n",
       "3       0  U dun say so early hor... U c already then say...             49   \n",
       "4       0  Nah I don't think he goes to usf, he lives aro...             61   \n",
       "\n",
       "   num_words  num_senctences  \\\n",
       "0         24               2   \n",
       "1          8               2   \n",
       "2         37               2   \n",
       "3         13               1   \n",
       "4         15               1   \n",
       "\n",
       "                                    transformed_text  \n",
       "0  go jurong point crazi avail bugi n great world...  \n",
       "1                              ok lar joke wif u oni  \n",
       "2  free entri 2 wkli comp win fa cup final tkt 21...  \n",
       "3                u dun say earli hor u c alreadi say  \n",
       "4               nah think goe usf live around though  "
      ]
     },
     "execution_count": 172,
     "metadata": {},
     "output_type": "execute_result"
    }
   ],
   "source": [
    "# top 30 word used \n",
    "df.head()"
   ]
  },
  {
   "cell_type": "code",
   "execution_count": 199,
   "id": "828ef5fa",
   "metadata": {},
   "outputs": [],
   "source": [
    "# for spam\n",
    "spam_corpus=[]\n",
    "for msg in df[df['target']==1]['transformed_text'].tolist():\n",
    "    for word in msg.split():\n",
    "        spam_corpus.append(word)\n",
    "        "
   ]
  },
  {
   "cell_type": "code",
   "execution_count": 200,
   "id": "323c1518",
   "metadata": {},
   "outputs": [
    {
     "data": {
      "text/plain": [
       "9939"
      ]
     },
     "execution_count": 200,
     "metadata": {},
     "output_type": "execute_result"
    }
   ],
   "source": [
    "len(spam_corpus)"
   ]
  },
  {
   "cell_type": "code",
   "execution_count": 201,
   "id": "f92458e4",
   "metadata": {},
   "outputs": [
    {
     "data": {
      "text/plain": [
       "Counter({'call': 320,\n",
       "         'free': 191,\n",
       "         '2': 155,\n",
       "         'txt': 141,\n",
       "         'text': 122,\n",
       "         'u': 119,\n",
       "         'ur': 119,\n",
       "         'mobil': 114,\n",
       "         'stop': 104,\n",
       "         'repli': 103,\n",
       "         'claim': 98,\n",
       "         '4': 97,\n",
       "         'prize': 82,\n",
       "         'get': 74,\n",
       "         'new': 64,\n",
       "         'servic': 64,\n",
       "         'tone': 63,\n",
       "         'send': 60,\n",
       "         'urgent': 57,\n",
       "         'nokia': 57,\n",
       "         'contact': 56,\n",
       "         'award': 55,\n",
       "         'phone': 52,\n",
       "         'cash': 51,\n",
       "         'pleas': 51,\n",
       "         'week': 49,\n",
       "         'win': 48,\n",
       "         'c': 45,\n",
       "         'collect': 45,\n",
       "         'min': 45,\n",
       "         'custom': 42,\n",
       "         'messag': 42,\n",
       "         'guarante': 42,\n",
       "         'per': 41,\n",
       "         'chat': 38,\n",
       "         'tri': 37,\n",
       "         'msg': 35,\n",
       "         'draw': 35,\n",
       "         'number': 35,\n",
       "         'cs': 35,\n",
       "         'show': 33,\n",
       "         'today': 33,\n",
       "         'offer': 33,\n",
       "         'line': 33,\n",
       "         'go': 32,\n",
       "         'receiv': 31,\n",
       "         'want': 31,\n",
       "         'latest': 30,\n",
       "         'rington': 30,\n",
       "         'landlin': 30,\n",
       "         '150ppm': 29,\n",
       "         'video': 29,\n",
       "         '1': 28,\n",
       "         'voucher': 28,\n",
       "         'code': 27,\n",
       "         'holiday': 27,\n",
       "         'rate': 26,\n",
       "         'network': 26,\n",
       "         'select': 26,\n",
       "         '150p': 26,\n",
       "         'date': 26,\n",
       "         'box': 26,\n",
       "         'day': 26,\n",
       "         'everi': 26,\n",
       "         'appli': 24,\n",
       "         'r': 24,\n",
       "         'cost': 24,\n",
       "         'end': 24,\n",
       "         'po': 24,\n",
       "         'orang': 24,\n",
       "         'await': 24,\n",
       "         'camera': 23,\n",
       "         'chanc': 22,\n",
       "         'charg': 22,\n",
       "         'sm': 22,\n",
       "         'live': 22,\n",
       "         'poli': 22,\n",
       "         'attempt': 22,\n",
       "         'entri': 21,\n",
       "         'word': 21,\n",
       "         'valid': 21,\n",
       "         'find': 21,\n",
       "         '3': 20,\n",
       "         'back': 20,\n",
       "         'uk': 20,\n",
       "         'mob': 20,\n",
       "         '18': 20,\n",
       "         'game': 20,\n",
       "         'weekli': 20,\n",
       "         'pound': 19,\n",
       "         'know': 19,\n",
       "         '500': 19,\n",
       "         'club': 19,\n",
       "         '1st': 19,\n",
       "         '2nd': 19,\n",
       "         '8007': 19,\n",
       "         'pic': 19,\n",
       "         'credit': 18,\n",
       "         'http': 18,\n",
       "         'deliveri': 18,\n",
       "         'account': 18,\n",
       "         'join': 18,\n",
       "         '16': 18,\n",
       "         'sae': 18,\n",
       "         'time': 18,\n",
       "         'bonu': 17,\n",
       "         'wait': 17,\n",
       "         'expir': 17,\n",
       "         'order': 17,\n",
       "         '750': 17,\n",
       "         'unsubscrib': 17,\n",
       "         'wk': 17,\n",
       "         'next': 16,\n",
       "         'thank': 16,\n",
       "         '08000930705': 16,\n",
       "         'special': 16,\n",
       "         '12hr': 16,\n",
       "         'privat': 16,\n",
       "         'see': 16,\n",
       "         'take': 16,\n",
       "         'land': 16,\n",
       "         'dear': 16,\n",
       "         'gift': 16,\n",
       "         'camcord': 15,\n",
       "         'statement': 15,\n",
       "         'point': 15,\n",
       "         'identifi': 15,\n",
       "         'name': 15,\n",
       "         'music': 15,\n",
       "         'xma': 15,\n",
       "         'price': 15,\n",
       "         'enter': 15,\n",
       "         'hi': 15,\n",
       "         'auction': 15,\n",
       "         'final': 14,\n",
       "         'freemsg': 14,\n",
       "         'updat': 14,\n",
       "         'colour': 14,\n",
       "         '100': 14,\n",
       "         'play': 14,\n",
       "         'match': 14,\n",
       "         'top': 14,\n",
       "         'yr': 14,\n",
       "         'sexi': 14,\n",
       "         'content': 14,\n",
       "         '86688': 14,\n",
       "         'winner': 13,\n",
       "         'weekend': 13,\n",
       "         'friend': 13,\n",
       "         'someon': 13,\n",
       "         '10p': 13,\n",
       "         'hot': 13,\n",
       "         'doubl': 13,\n",
       "         'mobileupd8': 13,\n",
       "         '2003': 13,\n",
       "         '800': 13,\n",
       "         'tell': 13,\n",
       "         'like': 12,\n",
       "         'use': 12,\n",
       "         'ye': 12,\n",
       "         'last': 12,\n",
       "         'caller': 12,\n",
       "         'real': 12,\n",
       "         'dog': 12,\n",
       "         'start': 12,\n",
       "         'reveal': 12,\n",
       "         'congratul': 12,\n",
       "         'anytim': 12,\n",
       "         'minut': 12,\n",
       "         'fanci': 12,\n",
       "         '08000839402': 12,\n",
       "         'half': 12,\n",
       "         'help': 12,\n",
       "         'good': 12,\n",
       "         'enjoy': 12,\n",
       "         'info': 11,\n",
       "         'pobox': 11,\n",
       "         'nation': 11,\n",
       "         'eg': 11,\n",
       "         'complimentari': 11,\n",
       "         'oper': 11,\n",
       "         'ltd': 11,\n",
       "         'make': 11,\n",
       "         'think': 11,\n",
       "         'cd': 11,\n",
       "         'current': 11,\n",
       "         'rental': 11,\n",
       "         'import': 11,\n",
       "         'need': 11,\n",
       "         'wan': 11,\n",
       "         'xxx': 10,\n",
       "         'tomorrow': 10,\n",
       "         'follow': 10,\n",
       "         'player': 10,\n",
       "         'sent': 10,\n",
       "         'direct': 10,\n",
       "         'invit': 10,\n",
       "         '87066': 10,\n",
       "         'unlimit': 10,\n",
       "         'easi': 10,\n",
       "         'babe': 10,\n",
       "         'motorola': 10,\n",
       "         'love': 10,\n",
       "         'ipod': 10,\n",
       "         'shop': 10,\n",
       "         'one': 10,\n",
       "         'opt': 10,\n",
       "         'sex': 10,\n",
       "         'na': 10,\n",
       "         'b': 10,\n",
       "         'wkli': 9,\n",
       "         'question': 9,\n",
       "         'reward': 9,\n",
       "         'wap': 9,\n",
       "         'dont': 9,\n",
       "         'year': 9,\n",
       "         '0800': 9,\n",
       "         'quiz': 9,\n",
       "         'age': 9,\n",
       "         'look': 9,\n",
       "         'choos': 9,\n",
       "         '1000': 9,\n",
       "         '150': 9,\n",
       "         'ts': 9,\n",
       "         'subscrib': 9,\n",
       "         'chariti': 9,\n",
       "         'girl': 9,\n",
       "         'inform': 9,\n",
       "         'great': 9,\n",
       "         'comp': 8,\n",
       "         'fun': 8,\n",
       "         'valu': 8,\n",
       "         'miss': 8,\n",
       "         'news': 8,\n",
       "         '87077': 8,\n",
       "         'access': 8,\n",
       "         'x': 8,\n",
       "         'welcom': 8,\n",
       "         'term': 8,\n",
       "         'worth': 8,\n",
       "         'savamob': 8,\n",
       "         'area': 8,\n",
       "         '5': 8,\n",
       "         'mate': 8,\n",
       "         'either': 8,\n",
       "         'bid': 8,\n",
       "         'pl': 8,\n",
       "         'user': 8,\n",
       "         '08712460324': 8,\n",
       "         'lucki': 8,\n",
       "         'give': 8,\n",
       "         'part': 8,\n",
       "         'fantasi': 8,\n",
       "         'england': 7,\n",
       "         '10': 7,\n",
       "         'inc': 7,\n",
       "         'speak': 7,\n",
       "         '2004': 7,\n",
       "         'txting': 7,\n",
       "         'download': 7,\n",
       "         'even': 7,\n",
       "         'secret': 7,\n",
       "         'admir': 7,\n",
       "         'tnc': 7,\n",
       "         'horni': 7,\n",
       "         'sport': 7,\n",
       "         'maxim': 7,\n",
       "         'bluetooth': 7,\n",
       "         'ldn': 7,\n",
       "         'tenerif': 7,\n",
       "         'tc': 7,\n",
       "         'us': 7,\n",
       "         'custcar': 7,\n",
       "         'remov': 7,\n",
       "         '25p': 7,\n",
       "         'gr8': 7,\n",
       "         'fantast': 7,\n",
       "         'best': 7,\n",
       "         'night': 7,\n",
       "         'could': 7,\n",
       "         'summer': 7,\n",
       "         'store': 7,\n",
       "         'ntt': 7,\n",
       "         'log': 7,\n",
       "         'onto': 7,\n",
       "         'n': 7,\n",
       "         'plu': 7,\n",
       "         'bill': 7,\n",
       "         'im': 7,\n",
       "         'detail': 7,\n",
       "         'may': 6,\n",
       "         'std': 6,\n",
       "         'entitl': 6,\n",
       "         'link': 6,\n",
       "         'congrat': 6,\n",
       "         'etc': 6,\n",
       "         'repres': 6,\n",
       "         'flight': 6,\n",
       "         '08712300220': 6,\n",
       "         'quot': 6,\n",
       "         'standard': 6,\n",
       "         'sp': 6,\n",
       "         'handset': 6,\n",
       "         'answer': 6,\n",
       "         'loyalti': 6,\n",
       "         'cc': 6,\n",
       "         'discount': 6,\n",
       "         'first': 6,\n",
       "         'logo': 6,\n",
       "         '40gb': 6,\n",
       "         'member': 6,\n",
       "         'age16': 6,\n",
       "         'spree': 6,\n",
       "         'holder': 6,\n",
       "         'pc': 6,\n",
       "         'b4': 6,\n",
       "         'book': 6,\n",
       "         'extra': 6,\n",
       "         'zed': 6,\n",
       "         'care': 6,\n",
       "         'record': 6,\n",
       "         'asap': 6,\n",
       "         'gay': 6,\n",
       "         'guess': 6,\n",
       "         'digit': 6,\n",
       "         'an': 6,\n",
       "         'luck': 6,\n",
       "         'got': 6,\n",
       "         '0870': 6,\n",
       "         'arriv': 6,\n",
       "         'titl': 6,\n",
       "         'del': 6,\n",
       "         'pick': 6,\n",
       "         'hey': 5,\n",
       "         'still': 5,\n",
       "         'ok': 5,\n",
       "         'month': 5,\n",
       "         'click': 5,\n",
       "         'subscript': 5,\n",
       "         'pass': 5,\n",
       "         'come': 5,\n",
       "         'voda': 5,\n",
       "         'sunshin': 5,\n",
       "         'soni': 5,\n",
       "         'dvd': 5,\n",
       "         'locat': 5,\n",
       "         'bt': 5,\n",
       "         'must': 5,\n",
       "         'local': 5,\n",
       "         'luv': 5,\n",
       "         'frnd': 5,\n",
       "         '62468': 5,\n",
       "         'goto': 5,\n",
       "         'meet': 5,\n",
       "         'partner': 5,\n",
       "         'flirt': 5,\n",
       "         'singl': 5,\n",
       "         'themob': 5,\n",
       "         'keep': 5,\n",
       "         'rcvd': 5,\n",
       "         'sonyericsson': 5,\n",
       "         'eve': 5,\n",
       "         'pobox36504w45wq': 5,\n",
       "         'activ': 5,\n",
       "         'visit': 5,\n",
       "         'mp3': 5,\n",
       "         'sub': 5,\n",
       "         'ring': 5,\n",
       "         'announc': 5,\n",
       "         'guy': 5,\n",
       "         'vodafon': 5,\n",
       "         '80062': 5,\n",
       "         'immedi': 5,\n",
       "         'alert': 5,\n",
       "         'txtauction': 5,\n",
       "         'break': 5,\n",
       "         'no1': 5,\n",
       "         'talk': 5,\n",
       "         '08718720201': 5,\n",
       "         '6': 5,\n",
       "         'regist': 5,\n",
       "         'ask': 5,\n",
       "         'xchat': 5,\n",
       "         'o2': 5,\n",
       "         'surpris': 5,\n",
       "         'readi': 5,\n",
       "         '20p': 5,\n",
       "         '1327': 5,\n",
       "         'croydon': 5,\n",
       "         'cr9': 5,\n",
       "         '5wb': 5,\n",
       "         'reach': 5,\n",
       "         '86021': 5,\n",
       "         'eeri': 5,\n",
       "         'rpli': 5,\n",
       "         'comput': 5,\n",
       "         'fone': 5,\n",
       "         'flag': 5,\n",
       "         'spook': 5,\n",
       "         'tariff': 5,\n",
       "         'cancel': 5,\n",
       "         '3510i': 5,\n",
       "         '300': 5,\n",
       "         'hour': 4,\n",
       "         'v': 4,\n",
       "         'ac': 4,\n",
       "         'correct': 4,\n",
       "         '150pm': 4,\n",
       "         'recent': 4,\n",
       "         'app': 4,\n",
       "         'laid': 4,\n",
       "         'largest': 4,\n",
       "         'ec2a': 4,\n",
       "         'noth': 4,\n",
       "         'netcollex': 4,\n",
       "         'freephon': 4,\n",
       "         '2optout': 4,\n",
       "         'hmv': 4,\n",
       "         'upgrad': 4,\n",
       "         'card': 4,\n",
       "         '4u': 4,\n",
       "         'check': 4,\n",
       "         'decemb': 4,\n",
       "         'refer': 4,\n",
       "         'ad': 4,\n",
       "         'vari': 4,\n",
       "         'post': 4,\n",
       "         '5000': 4,\n",
       "         'cw25wx': 4,\n",
       "         'condit': 4,\n",
       "         '83355': 4,\n",
       "         'mono': 4,\n",
       "         '85023': 4,\n",
       "         'within': 4,\n",
       "         'hello': 4,\n",
       "         'forward': 4,\n",
       "         'polyphon': 4,\n",
       "         'pobox84': 4,\n",
       "         '36504': 4,\n",
       "         'm8': 4,\n",
       "         'ibiza': 4,\n",
       "         'ppm': 4,\n",
       "         'vip': 4,\n",
       "         'sale': 4,\n",
       "         'money': 4,\n",
       "         'away': 4,\n",
       "         'sk38xh': 4,\n",
       "         'contract': 4,\n",
       "         'place': 4,\n",
       "         'deliv': 4,\n",
       "         '08712405020': 4,\n",
       "         'cum': 4,\n",
       "         'xx': 4,\n",
       "         '08707509020': 4,\n",
       "         'linerent': 4,\n",
       "         'optout': 4,\n",
       "         '2nite': 4,\n",
       "         'hope': 4,\n",
       "         'hotel': 4,\n",
       "         '2day': 4,\n",
       "         'brand': 4,\n",
       "         '250': 4,\n",
       "         'london': 4,\n",
       "         'mobi': 4,\n",
       "         'action': 4,\n",
       "         'arcad': 4,\n",
       "         '08001950382': 4,\n",
       "         'would': 4,\n",
       "         'costa': 4,\n",
       "         'sol': 4,\n",
       "         '87239': 4,\n",
       "         'inclus': 4,\n",
       "         'saturday': 4,\n",
       "         'ntwk': 4,\n",
       "         'hit': 4,\n",
       "         'crazi': 4,\n",
       "         'porn': 4,\n",
       "         'mth': 4,\n",
       "         'film': 4,\n",
       "         'santa': 4,\n",
       "         'cup': 3,\n",
       "         '12': 3,\n",
       "         '11': 3,\n",
       "         'co': 3,\n",
       "         'hl': 3,\n",
       "         'review': 3,\n",
       "         'trip': 3,\n",
       "         'hear': 3,\n",
       "         'k52': 3,\n",
       "         '786': 3,\n",
       "         'unredeem': 3,\n",
       "         'tonight': 3,\n",
       "         'tv': 3,\n",
       "         '89545': 3,\n",
       "         'star': 3,\n",
       "         '25': 3,\n",
       "         'recd': 3,\n",
       "         'penc': 3,\n",
       "         'chart': 3,\n",
       "         '0845': 3,\n",
       "         'newest': 3,\n",
       "         'm26': 3,\n",
       "         '3uz': 3,\n",
       "         '08002986906': 3,\n",
       "         'germani': 3,\n",
       "         'via': 3,\n",
       "         'valentin': 3,\n",
       "         '83600': 3,\n",
       "         '11mth': 3,\n",
       "         '87131': 3,\n",
       "         'heart': 3,\n",
       "         '3min': 3,\n",
       "         'close': 3,\n",
       "         'wc1n3xx': 3,\n",
       "         'loan': 3,\n",
       "         'notic': 3,\n",
       "         'ibhltd': 3,\n",
       "         'ldnw15h': 3,\n",
       "         'renew': 3,\n",
       "         'box95qu': 3,\n",
       "         'unsub': 3,\n",
       "         '08715705022': 3,\n",
       "         '542': 3,\n",
       "         'ladi': 3,\n",
       "         'kick': 3,\n",
       "         'euro2004': 3,\n",
       "         'daili': 3,\n",
       "         'postcod': 3,\n",
       "         '20': 3,\n",
       "         'work': 3,\n",
       "         'textoper': 3,\n",
       "         '50': 3,\n",
       "         'listen': 3,\n",
       "         '4t': 3,\n",
       "         'pari': 3,\n",
       "         'citi': 3,\n",
       "         'skilgm': 3,\n",
       "         'ever': 3,\n",
       "         'life': 3,\n",
       "         'w45wq': 3,\n",
       "         '3qxj9': 3,\n",
       "         '9ae': 3,\n",
       "         'alfi': 3,\n",
       "         'moon': 3,\n",
       "         'children': 3,\n",
       "         'song': 3,\n",
       "         '08701417012': 3,\n",
       "         'profit': 3,\n",
       "         'cust': 3,\n",
       "         'five': 3,\n",
       "         '434': 3,\n",
       "         'sk3': 3,\n",
       "         '8wp': 3,\n",
       "         'address': 3,\n",
       "         'male': 3,\n",
       "         'cheap': 3,\n",
       "         'compani': 3,\n",
       "         '3g': 3,\n",
       "         'videophon': 3,\n",
       "         'videochat': 3,\n",
       "         'wid': 3,\n",
       "         'java': 3,\n",
       "         'dload': 3,\n",
       "         'nolin': 3,\n",
       "         'rentl': 3,\n",
       "         'f': 3,\n",
       "         'peopl': 3,\n",
       "         'cant': 3,\n",
       "         'sipix': 3,\n",
       "         'receipt': 3,\n",
       "         'bore': 3,\n",
       "         'yesterday': 3,\n",
       "         'mani': 3,\n",
       "         'let': 3,\n",
       "         'futur': 3,\n",
       "         'jordan': 3,\n",
       "         '84128': 3,\n",
       "         'set': 3,\n",
       "         'jamster': 3,\n",
       "         'origin': 3,\n",
       "         '3gbp': 3,\n",
       "         'photo': 3,\n",
       "         'arsen': 3,\n",
       "         'pod': 3,\n",
       "         'alon': 3,\n",
       "         '09066362231': 3,\n",
       "         '07xxxxxxxxx': 3,\n",
       "         'high': 3,\n",
       "         'shortli': 3,\n",
       "         '7250i': 3,\n",
       "         'stay': 3,\n",
       "         '82242': 3,\n",
       "         'sorri': 3,\n",
       "         'connect': 3,\n",
       "         'ticket': 3,\n",
       "         '18yr': 3,\n",
       "         'abta': 3,\n",
       "         'right': 3,\n",
       "         'person': 3,\n",
       "         'well': 3,\n",
       "         '09050090044': 3,\n",
       "         'toclaim': 3,\n",
       "         'pobox334': 3,\n",
       "         'stockport': 3,\n",
       "         'max10min': 3,\n",
       "         'provid': 3,\n",
       "         'freefon': 3,\n",
       "         'box97n7qp': 3,\n",
       "         'men': 3,\n",
       "         'offici': 3,\n",
       "         'ip4': 3,\n",
       "         '5we': 3,\n",
       "         'cross': 3,\n",
       "         'also': 3,\n",
       "         '88066': 3,\n",
       "         '80082': 3,\n",
       "         'halloween': 3,\n",
       "         'sky': 3,\n",
       "         'adult': 3,\n",
       "         '09066612661': 3,\n",
       "         'sept': 3,\n",
       "         '28': 3,\n",
       "         'king': 3,\n",
       "         'super': 3,\n",
       "         'littl': 3,\n",
       "         '50p': 3,\n",
       "         'deliveredtomorrow': 3,\n",
       "         'save': 3,\n",
       "         'callback': 3,\n",
       "         '200': 3,\n",
       "         '7': 3,\n",
       "         'nat': 3,\n",
       "         'goal': 3,\n",
       "         '30': 3,\n",
       "         'fa': 2,\n",
       "         'tkt': 2,\n",
       "         '87121': 2,\n",
       "         'darl': 2,\n",
       "         'chg': 2,\n",
       "         'rcv': 2,\n",
       "         'six': 2,\n",
       "         'team': 2,\n",
       "         'sptv': 2,\n",
       "         'cinema': 2,\n",
       "         '09061209465': 2,\n",
       "         'suprman': 2,\n",
       "         'matrix3': 2,\n",
       "         'starwars3': 2,\n",
       "         'advis': 2,\n",
       "         'simpli': 2,\n",
       "         'password': 2,\n",
       "         'verifi': 2,\n",
       "         'gent': 2,\n",
       "         '45239': 2,\n",
       "         '350': 2,\n",
       "         'q': 2,\n",
       "         'countri': 2,\n",
       "         'ansr': 2,\n",
       "         'tyron': 2,\n",
       "         '69888': 2,\n",
       "         'hardcor': 2,\n",
       "         'randi': 2,\n",
       "         '08700621170150p': 2,\n",
       "         'arrang': 2,\n",
       "         'uniqu': 2,\n",
       "         'enough': 2,\n",
       "         'august': 2,\n",
       "         'dream': 2,\n",
       "         'soon': 2,\n",
       "         'horo': 2,\n",
       "         'sign': 2,\n",
       "         'sam': 2,\n",
       "         '125gift': 2,\n",
       "         '69698': 2,\n",
       "         'qualiti': 2,\n",
       "         'pay': 2,\n",
       "         'sim': 2,\n",
       "         '021': 2,\n",
       "         'blind': 2,\n",
       "         '82468': 2,\n",
       "         'smart': 2,\n",
       "         'fix': 2,\n",
       "         '0844': 2,\n",
       "         '861': 2,\n",
       "         '85': 2,\n",
       "         'prepay': 2,\n",
       "         'lifetim': 2,\n",
       "         'shag': 2,\n",
       "         'avail': 2,\n",
       "         '4mth': 2,\n",
       "         'mobilesdirect': 2,\n",
       "         '08000938767': 2,\n",
       "         'or2stoptxt': 2,\n",
       "         'true': 2,\n",
       "         'box334sk38ch': 2,\n",
       "         'competit': 2,\n",
       "         '80086': 2,\n",
       "         'lover': 2,\n",
       "         'name1': 2,\n",
       "         'name2': 2,\n",
       "         'mobno': 2,\n",
       "         'adam': 2,\n",
       "         '07123456789': 2,\n",
       "         'yahoo': 2,\n",
       "         'txtno': 2,\n",
       "         'ave': 2,\n",
       "         'purpos': 2,\n",
       "         'tenant': 2,\n",
       "         'refus': 2,\n",
       "         '0207': 2,\n",
       "         '153': 2,\n",
       "         'juli': 2,\n",
       "         'dave': 2,\n",
       "         '09061743806': 2,\n",
       "         'box326': 2,\n",
       "         'cha': 2,\n",
       "         '24hr': 2,\n",
       "         '08718738001': 2,\n",
       "         'web': 2,\n",
       "         'call09050000327': 2,\n",
       "         '2000': 2,\n",
       "         '08712402050': 2,\n",
       "         '10ppm': 2,\n",
       "         'ag': 2,\n",
       "         'promo': 2,\n",
       "         'kept': 2,\n",
       "         'result': 2,\n",
       "         '83222': 2,\n",
       "         'textbuddi': 2,\n",
       "         'search': 2,\n",
       "         '89693': 2,\n",
       "         '40533': 2,\n",
       "         'rstm': 2,\n",
       "         'sw7': 2,\n",
       "         '3ss': 2,\n",
       "         'premium': 2,\n",
       "         'sue': 2,\n",
       "         'old': 2,\n",
       "         '09071512433': 2,\n",
       "         '050703': 2,\n",
       "         'csbcm4235wc1n3xx': 2,\n",
       "         'callcost': 2,\n",
       "         'mobilesvari': 2,\n",
       "         'email': 2,\n",
       "         'nokia6650': 2,\n",
       "         '81151': 2,\n",
       "         'ctxt': 2,\n",
       "         'helplin': 2,\n",
       "         '08706091795': 2,\n",
       "         '40': 2,\n",
       "         'around': 2,\n",
       "         'premier': 2,\n",
       "         '88039': 2,\n",
       "         'tscs087147403231winawk': 2,\n",
       "         '0578': 2,\n",
       "         'commun': 2,\n",
       "         'subpoli': 2,\n",
       "         '08718727870': 2,\n",
       "         'm263uz': 2,\n",
       "         'cashto': 2,\n",
       "         '08000407165': 2,\n",
       "         'getstop': 2,\n",
       "         '88222': 2,\n",
       "         'php': 2,\n",
       "         '08002888812': 2,\n",
       "         'wed': 2,\n",
       "         '09066350750': 2,\n",
       "         'world': 2,\n",
       "         'discreet': 2,\n",
       "         'suppli': 2,\n",
       "         'virgin': 2,\n",
       "         '41685': 2,\n",
       "         'till': 2,\n",
       "         '10k': 2,\n",
       "         'liverpool': 2,\n",
       "         '09058094565': 2,\n",
       "         'remind': 2,\n",
       "         'cheaper': 2,\n",
       "         'peak': 2,\n",
       "         '88600': 2,\n",
       "         'lux': 2,\n",
       "         'filthi': 2,\n",
       "         'valid12hr': 2,\n",
       "         '09063458130': 2,\n",
       "         'polyph': 2,\n",
       "         'somebodi': 2,\n",
       "         'secretli': 2,\n",
       "         'datebox1282essexcm61xn': 2,\n",
       "         'ls15hb': 2,\n",
       "         'euro': 2,\n",
       "         'flower': 2,\n",
       "         '84025': 2,\n",
       "         'lot': 2,\n",
       "         '09050003091': 2,\n",
       "         'c52': 2,\n",
       "         'p': 2,\n",
       "         '09061790121': 2,\n",
       "         'speedchat': 2,\n",
       "         '08000776320': 2,\n",
       "         'wish': 2,\n",
       "         'forget': 2,\n",
       "         'request': 2,\n",
       "         '4fil': 2,\n",
       "         'ralli': 2,\n",
       "         'energi': 2,\n",
       "         'celeb': 2,\n",
       "         'voicemail': 2,\n",
       "         'choic': 2,\n",
       "         '87021': 2,\n",
       "         'txtin': 2,\n",
       "         '4info': 2,\n",
       "         'complet': 2,\n",
       "         'hungri': 2,\n",
       "         'feel': 2,\n",
       "         'lion': 2,\n",
       "         'lionm': 2,\n",
       "         'lionp': 2,\n",
       "         'potter': 2,\n",
       "         'phoenix': 2,\n",
       "         'harri': 2,\n",
       "         'among': 2,\n",
       "         'reader': 2,\n",
       "         'balanc': 2,\n",
       "         'sauci': 2,\n",
       "         'bear': 2,\n",
       "         'upload': 2,\n",
       "         '08718730666': 2,\n",
       "         'textpod': 2,\n",
       "         'clair': 2,\n",
       "         'luci': 2,\n",
       "         'hubbi': 2,\n",
       "         'fri': 2,\n",
       "         'leav': 2,\n",
       "         '80488': 2,\n",
       "         'jsco': 2,\n",
       "         'sing': 2,\n",
       "         '7250': 2,\n",
       "         'british': 2,\n",
       "         'sw73ss': 2,\n",
       "         'dracula': 2,\n",
       "         'ghost': 2,\n",
       "         'addamsfa': 2,\n",
       "         'munster': 2,\n",
       "         'exorcist': 2,\n",
       "         'twilight': 2,\n",
       "         'respons': 2,\n",
       "         'cam': 2,\n",
       "         'msg150p': 2,\n",
       "         '2rcv': 2,\n",
       "         'hlp': 2,\n",
       "         '08712317606': 2,\n",
       "         '08712405022': 2,\n",
       "         'wiv': 2,\n",
       "         'marri': 2,\n",
       "         '81303': 2,\n",
       "         'hard': 2,\n",
       "         '121': 2,\n",
       "         'biggest': 2,\n",
       "         'wow': 2,\n",
       "         'boy': 2,\n",
       "         '2007': 2,\n",
       "         'tour': 2,\n",
       "         'chosen': 2,\n",
       "         'bahama': 2,\n",
       "         'buy': 2,\n",
       "         'press': 2,\n",
       "         '0': 2,\n",
       "         'purchas': 2,\n",
       "         'big': 2,\n",
       "         'excit': 2,\n",
       "         '3100': 2,\n",
       "         'straight': 2,\n",
       "         'wet': 2,\n",
       "         '89555': 2,\n",
       "         'g696ga': 2,\n",
       "         'pm': 2,\n",
       "         'upto': 2,\n",
       "         '12mth': 2,\n",
       "         '0776xxxxxxx': 2,\n",
       "         '326': 2,\n",
       "         'total': 2,\n",
       "         '80182': 2,\n",
       "         '08452810073': 2,\n",
       "         '09066358152': 2,\n",
       "         'prompt': 2,\n",
       "         'mind': 2,\n",
       "         'done': 2,\n",
       "         '61610': 2,\n",
       "         'yo': 2,\n",
       "         'tsc': 2,\n",
       "         'aom': 2,\n",
       "         'gender': 2,\n",
       "         'yer': 2,\n",
       "         'eng': 2,\n",
       "         'box39822': 2,\n",
       "         'w111wx': 2,\n",
       "         'hol': 2,\n",
       "         'med': 2,\n",
       "         'satisfi': 2,\n",
       "         'home': 2,\n",
       "         'pix': 2,\n",
       "         'ref': 2,\n",
       "         'respond': 2,\n",
       "         '300p': 2,\n",
       "         'heard': 2,\n",
       "         'u4': 2,\n",
       "         'rude': 2,\n",
       "         '8552': 2,\n",
       "         '88877': 2,\n",
       "         'lost': 2,\n",
       "         'upd8': 2,\n",
       "         '21870000': 2,\n",
       "         'mailbox': 2,\n",
       "         '09056242159': 2,\n",
       "         'retriev': 2,\n",
       "         'pub': 2,\n",
       "         'street': 2,\n",
       "         'duchess': 2,\n",
       "         'cornwal': 2,\n",
       "         '008704050406': 2,\n",
       "         '08701417012150p': 2,\n",
       "         'score': 2,\n",
       "         'town': 2,\n",
       "         'babi': 2,\n",
       "         'thing': 2,\n",
       "         'slo': 2,\n",
       "         '24': 2,\n",
       "         'acl03530150pm': 2,\n",
       "         'brought': 2,\n",
       "         'bx420': 2,\n",
       "         'amaz': 2,\n",
       "         'picsfree1': 2,\n",
       "         'instruct': 2,\n",
       "         'knock': 2,\n",
       "         'norm': 2,\n",
       "         '69696': 2,\n",
       "         'nyt': 2,\n",
       "         '3lp': 2,\n",
       "         'includ': 2,\n",
       "         'fastest': 2,\n",
       "         'grow': 2,\n",
       "         '2stoptxt': 2,\n",
       "         'luxuri': 2,\n",
       "         'canari': 2,\n",
       "         'island': 2,\n",
       "         'burger': 2,\n",
       "         'interflora': 2,\n",
       "         'everyon': 2,\n",
       "         'sinc': 2,\n",
       "         'warm': 2,\n",
       "         'bring': 2,\n",
       "         'sound': 2,\n",
       "         '88888': 2,\n",
       "         'realiti': 2,\n",
       "         'yet': 2,\n",
       "         'drive': 2,\n",
       "         'improv': 2,\n",
       "         'lotr': 2,\n",
       "         '08708034412': 2,\n",
       "         'lookatm': 2,\n",
       "         '09061221066': 2,\n",
       "         'fromm': 2,\n",
       "         'pobox45w2tg150p': 2,\n",
       "         'truli': 2,\n",
       "         'wo': 2,\n",
       "         'movi': 2,\n",
       "         'bank': 2,\n",
       "         'granit': 2,\n",
       "         'issu': 2,\n",
       "         'explos': 2,\n",
       "         'nasdaq': 2,\n",
       "         'symbol': 2,\n",
       "         'cdgt': 2,\n",
       "         'thur': 2,\n",
       "         'sat': 2,\n",
       "         'unabl': 2,\n",
       "         'class': 2,\n",
       "         'iscom': 2,\n",
       "         'blu': 2,\n",
       "         'wml': 2,\n",
       "         '09061743386': 2,\n",
       "         'spanish': 2,\n",
       "         'indic': 2,\n",
       "         'accid': 2,\n",
       "         '2find': 2,\n",
       "         'anoth': 2,\n",
       "         'polo': 2,\n",
       "         'suit': 2,\n",
       "         '373': 2,\n",
       "         'w1j': 2,\n",
       "         '6hl': 2,\n",
       "         'busi': 2,\n",
       "         'explicit': 2,\n",
       "         'sec': 2,\n",
       "         '02073162414': 2,\n",
       "         '89070': 2,\n",
       "         'mnth': 2,\n",
       "         '86888': 2,\n",
       "         '3hr': 2,\n",
       "         'txtstop': 2,\n",
       "         ...})"
      ]
     },
     "execution_count": 201,
     "metadata": {},
     "output_type": "execute_result"
    }
   ],
   "source": [
    "from collections import Counter\n",
    "Counter(spam_corpus)"
   ]
  },
  {
   "cell_type": "code",
   "execution_count": 202,
   "id": "7e54d28e",
   "metadata": {},
   "outputs": [
    {
     "data": {
      "text/html": [
       "<div>\n",
       "<style scoped>\n",
       "    .dataframe tbody tr th:only-of-type {\n",
       "        vertical-align: middle;\n",
       "    }\n",
       "\n",
       "    .dataframe tbody tr th {\n",
       "        vertical-align: top;\n",
       "    }\n",
       "\n",
       "    .dataframe thead th {\n",
       "        text-align: right;\n",
       "    }\n",
       "</style>\n",
       "<table border=\"1\" class=\"dataframe\">\n",
       "  <thead>\n",
       "    <tr style=\"text-align: right;\">\n",
       "      <th></th>\n",
       "      <th>0</th>\n",
       "      <th>1</th>\n",
       "    </tr>\n",
       "  </thead>\n",
       "  <tbody>\n",
       "    <tr>\n",
       "      <th>0</th>\n",
       "      <td>call</td>\n",
       "      <td>320</td>\n",
       "    </tr>\n",
       "    <tr>\n",
       "      <th>1</th>\n",
       "      <td>free</td>\n",
       "      <td>191</td>\n",
       "    </tr>\n",
       "    <tr>\n",
       "      <th>2</th>\n",
       "      <td>2</td>\n",
       "      <td>155</td>\n",
       "    </tr>\n",
       "    <tr>\n",
       "      <th>3</th>\n",
       "      <td>txt</td>\n",
       "      <td>141</td>\n",
       "    </tr>\n",
       "    <tr>\n",
       "      <th>4</th>\n",
       "      <td>text</td>\n",
       "      <td>122</td>\n",
       "    </tr>\n",
       "    <tr>\n",
       "      <th>5</th>\n",
       "      <td>u</td>\n",
       "      <td>119</td>\n",
       "    </tr>\n",
       "    <tr>\n",
       "      <th>6</th>\n",
       "      <td>ur</td>\n",
       "      <td>119</td>\n",
       "    </tr>\n",
       "    <tr>\n",
       "      <th>7</th>\n",
       "      <td>mobil</td>\n",
       "      <td>114</td>\n",
       "    </tr>\n",
       "    <tr>\n",
       "      <th>8</th>\n",
       "      <td>stop</td>\n",
       "      <td>104</td>\n",
       "    </tr>\n",
       "    <tr>\n",
       "      <th>9</th>\n",
       "      <td>repli</td>\n",
       "      <td>103</td>\n",
       "    </tr>\n",
       "    <tr>\n",
       "      <th>10</th>\n",
       "      <td>claim</td>\n",
       "      <td>98</td>\n",
       "    </tr>\n",
       "    <tr>\n",
       "      <th>11</th>\n",
       "      <td>4</td>\n",
       "      <td>97</td>\n",
       "    </tr>\n",
       "    <tr>\n",
       "      <th>12</th>\n",
       "      <td>prize</td>\n",
       "      <td>82</td>\n",
       "    </tr>\n",
       "    <tr>\n",
       "      <th>13</th>\n",
       "      <td>get</td>\n",
       "      <td>74</td>\n",
       "    </tr>\n",
       "    <tr>\n",
       "      <th>14</th>\n",
       "      <td>new</td>\n",
       "      <td>64</td>\n",
       "    </tr>\n",
       "    <tr>\n",
       "      <th>15</th>\n",
       "      <td>servic</td>\n",
       "      <td>64</td>\n",
       "    </tr>\n",
       "    <tr>\n",
       "      <th>16</th>\n",
       "      <td>tone</td>\n",
       "      <td>63</td>\n",
       "    </tr>\n",
       "    <tr>\n",
       "      <th>17</th>\n",
       "      <td>send</td>\n",
       "      <td>60</td>\n",
       "    </tr>\n",
       "    <tr>\n",
       "      <th>18</th>\n",
       "      <td>urgent</td>\n",
       "      <td>57</td>\n",
       "    </tr>\n",
       "    <tr>\n",
       "      <th>19</th>\n",
       "      <td>nokia</td>\n",
       "      <td>57</td>\n",
       "    </tr>\n",
       "    <tr>\n",
       "      <th>20</th>\n",
       "      <td>contact</td>\n",
       "      <td>56</td>\n",
       "    </tr>\n",
       "    <tr>\n",
       "      <th>21</th>\n",
       "      <td>award</td>\n",
       "      <td>55</td>\n",
       "    </tr>\n",
       "    <tr>\n",
       "      <th>22</th>\n",
       "      <td>phone</td>\n",
       "      <td>52</td>\n",
       "    </tr>\n",
       "    <tr>\n",
       "      <th>23</th>\n",
       "      <td>cash</td>\n",
       "      <td>51</td>\n",
       "    </tr>\n",
       "    <tr>\n",
       "      <th>24</th>\n",
       "      <td>pleas</td>\n",
       "      <td>51</td>\n",
       "    </tr>\n",
       "    <tr>\n",
       "      <th>25</th>\n",
       "      <td>week</td>\n",
       "      <td>49</td>\n",
       "    </tr>\n",
       "    <tr>\n",
       "      <th>26</th>\n",
       "      <td>win</td>\n",
       "      <td>48</td>\n",
       "    </tr>\n",
       "    <tr>\n",
       "      <th>27</th>\n",
       "      <td>c</td>\n",
       "      <td>45</td>\n",
       "    </tr>\n",
       "    <tr>\n",
       "      <th>28</th>\n",
       "      <td>collect</td>\n",
       "      <td>45</td>\n",
       "    </tr>\n",
       "    <tr>\n",
       "      <th>29</th>\n",
       "      <td>min</td>\n",
       "      <td>45</td>\n",
       "    </tr>\n",
       "  </tbody>\n",
       "</table>\n",
       "</div>"
      ],
      "text/plain": [
       "          0    1\n",
       "0      call  320\n",
       "1      free  191\n",
       "2         2  155\n",
       "3       txt  141\n",
       "4      text  122\n",
       "5         u  119\n",
       "6        ur  119\n",
       "7     mobil  114\n",
       "8      stop  104\n",
       "9     repli  103\n",
       "10    claim   98\n",
       "11        4   97\n",
       "12    prize   82\n",
       "13      get   74\n",
       "14      new   64\n",
       "15   servic   64\n",
       "16     tone   63\n",
       "17     send   60\n",
       "18   urgent   57\n",
       "19    nokia   57\n",
       "20  contact   56\n",
       "21    award   55\n",
       "22    phone   52\n",
       "23     cash   51\n",
       "24    pleas   51\n",
       "25     week   49\n",
       "26      win   48\n",
       "27        c   45\n",
       "28  collect   45\n",
       "29      min   45"
      ]
     },
     "execution_count": 202,
     "metadata": {},
     "output_type": "execute_result"
    }
   ],
   "source": [
    "from collections import Counter\n",
    "pd.DataFrame(Counter(spam_corpus).most_common(30))"
   ]
  },
  {
   "cell_type": "code",
   "execution_count": 203,
   "id": "1f1199a0",
   "metadata": {},
   "outputs": [
    {
     "data": {
      "text/plain": [
       "(array([ 0,  1,  2,  3,  4,  5,  6,  7,  8,  9, 10, 11, 12, 13, 14, 15, 16,\n",
       "        17, 18, 19, 20, 21, 22, 23, 24, 25, 26, 27, 28, 29]),\n",
       " [Text(0, 0, 'call'),\n",
       "  Text(1, 0, 'free'),\n",
       "  Text(2, 0, '2'),\n",
       "  Text(3, 0, 'txt'),\n",
       "  Text(4, 0, 'text'),\n",
       "  Text(5, 0, 'u'),\n",
       "  Text(6, 0, 'ur'),\n",
       "  Text(7, 0, 'mobil'),\n",
       "  Text(8, 0, 'stop'),\n",
       "  Text(9, 0, 'repli'),\n",
       "  Text(10, 0, 'claim'),\n",
       "  Text(11, 0, '4'),\n",
       "  Text(12, 0, 'prize'),\n",
       "  Text(13, 0, 'get'),\n",
       "  Text(14, 0, 'new'),\n",
       "  Text(15, 0, 'servic'),\n",
       "  Text(16, 0, 'tone'),\n",
       "  Text(17, 0, 'send'),\n",
       "  Text(18, 0, 'urgent'),\n",
       "  Text(19, 0, 'nokia'),\n",
       "  Text(20, 0, 'contact'),\n",
       "  Text(21, 0, 'award'),\n",
       "  Text(22, 0, 'phone'),\n",
       "  Text(23, 0, 'cash'),\n",
       "  Text(24, 0, 'pleas'),\n",
       "  Text(25, 0, 'week'),\n",
       "  Text(26, 0, 'win'),\n",
       "  Text(27, 0, 'c'),\n",
       "  Text(28, 0, 'collect'),\n",
       "  Text(29, 0, 'min')])"
      ]
     },
     "execution_count": 203,
     "metadata": {},
     "output_type": "execute_result"
    },
    {
     "data": {
      "image/png": "[encoded data removed]",
      "text/plain": [
       "<Figure size 640x480 with 1 Axes>"
      ]
     },
     "metadata": {},
     "output_type": "display_data"
    }
   ],
   "source": [
    "# Create a DataFrame of the top 30 most common words\n",
    "top30 = pd.DataFrame(Counter(spam_corpus).most_common(30))\n",
    "\n",
    "# Rename columns for clarity\n",
    "top30.columns = ['word', 'count']\n",
    "\n",
    "# Plot\n",
    "sns.barplot(x='word', y='count', data=top30)\n",
    "plt.xticks(rotation='vertical')"
   ]
  },
  {
   "cell_type": "code",
   "execution_count": 207,
   "id": "01f557ff",
   "metadata": {},
   "outputs": [],
   "source": [
    "# for ham\n",
    "ham_corpus=[]\n",
    "for msg in df[df['target']==0]['transformed_text'].tolist():\n",
    "    for word in msg.split():\n",
    "        ham_corpus.append(word)\n",
    "        "
   ]
  },
  {
   "cell_type": "code",
   "execution_count": 208,
   "id": "7e508a90",
   "metadata": {},
   "outputs": [
    {
     "data": {
      "text/plain": [
       "35404"
      ]
     },
     "execution_count": 208,
     "metadata": {},
     "output_type": "execute_result"
    }
   ],
   "source": [
    "len(ham_corpus)"
   ]
  },
  {
   "cell_type": "code",
   "execution_count": 209,
   "id": "a6ddcef1",
   "metadata": {},
   "outputs": [
    {
     "data": {
      "text/plain": [
       "(array([ 0,  1,  2,  3,  4,  5,  6,  7,  8,  9, 10, 11, 12, 13, 14, 15, 16,\n",
       "        17, 18, 19, 20, 21, 22, 23, 24, 25, 26, 27, 28, 29]),\n",
       " [Text(0, 0, 'u'),\n",
       "  Text(1, 0, 'go'),\n",
       "  Text(2, 0, 'get'),\n",
       "  Text(3, 0, 'gt'),\n",
       "  Text(4, 0, 'lt'),\n",
       "  Text(5, 0, '2'),\n",
       "  Text(6, 0, 'come'),\n",
       "  Text(7, 0, 'got'),\n",
       "  Text(8, 0, 'know'),\n",
       "  Text(9, 0, 'like'),\n",
       "  Text(10, 0, 'call'),\n",
       "  Text(11, 0, 'time'),\n",
       "  Text(12, 0, 'ok'),\n",
       "  Text(13, 0, 'love'),\n",
       "  Text(14, 0, 'good'),\n",
       "  Text(15, 0, 'want'),\n",
       "  Text(16, 0, 'ur'),\n",
       "  Text(17, 0, 'day'),\n",
       "  Text(18, 0, 'need'),\n",
       "  Text(19, 0, 'one'),\n",
       "  Text(20, 0, 'lor'),\n",
       "  Text(21, 0, '4'),\n",
       "  Text(22, 0, 'home'),\n",
       "  Text(23, 0, 'think'),\n",
       "  Text(24, 0, 'see'),\n",
       "  Text(25, 0, 'take'),\n",
       "  Text(26, 0, 'still'),\n",
       "  Text(27, 0, 'da'),\n",
       "  Text(28, 0, 'tell'),\n",
       "  Text(29, 0, 'make')])"
      ]
     },
     "execution_count": 209,
     "metadata": {},
     "output_type": "execute_result"
    },
    {
     "data": {
      "image/png": "[encoded data removed]",
      "text/plain": [
       "<Figure size 640x480 with 1 Axes>"
      ]
     },
     "metadata": {},
     "output_type": "display_data"
    }
   ],
   "source": [
    "# Create a DataFrame of the top 30 most common words\n",
    "top30 = pd.DataFrame(Counter(ham_corpus).most_common(30))\n",
    "\n",
    "# Rename columns for clarity\n",
    "top30.columns = ['word', 'count']\n",
    "\n",
    "# Plot\n",
    "sns.barplot(x='word', y='count', data=top30)\n",
    "plt.xticks(rotation='vertical')"
   ]
  },
  {
   "cell_type": "markdown",
   "id": "2907842b",
   "metadata": {},
   "source": [
    "# Model Building"
   ]
  },
  {
   "cell_type": "code",
   "execution_count": 362,
   "id": "b2d66c3a",
   "metadata": {},
   "outputs": [
    {
     "data": {
      "text/html": [
       "<div>\n",
       "<style scoped>\n",
       "    .dataframe tbody tr th:only-of-type {\n",
       "        vertical-align: middle;\n",
       "    }\n",
       "\n",
       "    .dataframe tbody tr th {\n",
       "        vertical-align: top;\n",
       "    }\n",
       "\n",
       "    .dataframe thead th {\n",
       "        text-align: right;\n",
       "    }\n",
       "</style>\n",
       "<table border=\"1\" class=\"dataframe\">\n",
       "  <thead>\n",
       "    <tr style=\"text-align: right;\">\n",
       "      <th></th>\n",
       "      <th>target</th>\n",
       "      <th>text</th>\n",
       "      <th>num_charecter</th>\n",
       "      <th>num_words</th>\n",
       "      <th>num_senctences</th>\n",
       "      <th>transformed_text</th>\n",
       "    </tr>\n",
       "  </thead>\n",
       "  <tbody>\n",
       "    <tr>\n",
       "      <th>0</th>\n",
       "      <td>0</td>\n",
       "      <td>Go until jurong point, crazy.. Available only ...</td>\n",
       "      <td>111</td>\n",
       "      <td>24</td>\n",
       "      <td>2</td>\n",
       "      <td>go jurong point crazi avail bugi n great world...</td>\n",
       "    </tr>\n",
       "    <tr>\n",
       "      <th>1</th>\n",
       "      <td>0</td>\n",
       "      <td>Ok lar... Joking wif u oni...</td>\n",
       "      <td>29</td>\n",
       "      <td>8</td>\n",
       "      <td>2</td>\n",
       "      <td>ok lar joke wif u oni</td>\n",
       "    </tr>\n",
       "    <tr>\n",
       "      <th>2</th>\n",
       "      <td>1</td>\n",
       "      <td>Free entry in 2 a wkly comp to win FA Cup fina...</td>\n",
       "      <td>155</td>\n",
       "      <td>37</td>\n",
       "      <td>2</td>\n",
       "      <td>free entri 2 wkli comp win fa cup final tkt 21...</td>\n",
       "    </tr>\n",
       "    <tr>\n",
       "      <th>3</th>\n",
       "      <td>0</td>\n",
       "      <td>U dun say so early hor... U c already then say...</td>\n",
       "      <td>49</td>\n",
       "      <td>13</td>\n",
       "      <td>1</td>\n",
       "      <td>u dun say earli hor u c alreadi say</td>\n",
       "    </tr>\n",
       "    <tr>\n",
       "      <th>4</th>\n",
       "      <td>0</td>\n",
       "      <td>Nah I don't think he goes to usf, he lives aro...</td>\n",
       "      <td>61</td>\n",
       "      <td>15</td>\n",
       "      <td>1</td>\n",
       "      <td>nah think goe usf live around though</td>\n",
       "    </tr>\n",
       "  </tbody>\n",
       "</table>\n",
       "</div>"
      ],
      "text/plain": [
       "   target                                               text  num_charecter  \\\n",
       "0       0  Go until jurong point, crazy.. Available only ...            111   \n",
       "1       0                      Ok lar... Joking wif u oni...             29   \n",
       "2       1  Free entry in 2 a wkly comp to win FA Cup fina...            155   \n",
       "3       0  U dun say so early hor... U c already then say...             49   \n",
       "4       0  Nah I don't think he goes to usf, he lives aro...             61   \n",
       "\n",
       "   num_words  num_senctences  \\\n",
       "0         24               2   \n",
       "1          8               2   \n",
       "2         37               2   \n",
       "3         13               1   \n",
       "4         15               1   \n",
       "\n",
       "                                    transformed_text  \n",
       "0  go jurong point crazi avail bugi n great world...  \n",
       "1                              ok lar joke wif u oni  \n",
       "2  free entri 2 wkli comp win fa cup final tkt 21...  \n",
       "3                u dun say earli hor u c alreadi say  \n",
       "4               nah think goe usf live around though  "
      ]
     },
     "execution_count": 362,
     "metadata": {},
     "output_type": "execute_result"
    }
   ],
   "source": [
    "df.head()"
   ]
  },
  {
   "cell_type": "code",
   "execution_count": 378,
   "id": "dd79f452",
   "metadata": {},
   "outputs": [],
   "source": [
    "# vectorize the input column(transofrmed_text)->BOW or tf idf or word2vec\n",
    "\n",
    "from sklearn.feature_extraction.text import CountVectorizer,TfidfVectorizer\n",
    "cv=CountVectorizer()\n",
    "tf = TfidfVectorizer(max_features=3000)\n"
   ]
  },
  {
   "cell_type": "code",
   "execution_count": 379,
   "id": "8aaced67",
   "metadata": {},
   "outputs": [],
   "source": [
    "# X=cv.fit_transform(df['transformed_text']).toarray()\n",
    "X=tf.fit_transform(df['transformed_text']).toarray()"
   ]
  },
  {
   "cell_type": "code",
   "execution_count": null,
   "id": "7325b6c0",
   "metadata": {},
   "outputs": [],
   "source": []
  },
  {
   "cell_type": "code",
   "execution_count": 380,
   "id": "f73e59b4",
   "metadata": {},
   "outputs": [
    {
     "data": {
      "text/plain": [
       "array([[0., 0., 0., ..., 0., 0., 0.],\n",
       "       [0., 0., 0., ..., 0., 0., 0.],\n",
       "       [0., 0., 0., ..., 0., 0., 0.],\n",
       "       ...,\n",
       "       [0., 0., 0., ..., 0., 0., 0.],\n",
       "       [0., 0., 0., ..., 0., 0., 0.],\n",
       "       [0., 0., 0., ..., 0., 0., 0.]])"
      ]
     },
     "execution_count": 380,
     "metadata": {},
     "output_type": "execute_result"
    }
   ],
   "source": [
    "X"
   ]
  },
  {
   "cell_type": "code",
   "execution_count": 381,
   "id": "1a886d6e",
   "metadata": {},
   "outputs": [
    {
     "data": {
      "text/plain": [
       "(5169, 3000)"
      ]
     },
     "execution_count": 381,
     "metadata": {},
     "output_type": "execute_result"
    }
   ],
   "source": [
    "X.shape"
   ]
  },
  {
   "cell_type": "code",
   "execution_count": 382,
   "id": "7b0d9b3d",
   "metadata": {},
   "outputs": [],
   "source": [
    "y=df['target'].values"
   ]
  },
  {
   "cell_type": "code",
   "execution_count": 383,
   "id": "9d345de6",
   "metadata": {},
   "outputs": [],
   "source": [
    "# train test split\n",
    "from sklearn.model_selection import train_test_split\n"
   ]
  },
  {
   "cell_type": "code",
   "execution_count": 384,
   "id": "a1649541",
   "metadata": {},
   "outputs": [],
   "source": [
    "X_train,X_test,y_train,y_test=train_test_split(X,y,test_size=0.2,random_state=2)"
   ]
  },
  {
   "cell_type": "code",
   "execution_count": 385,
   "id": "71200c9e",
   "metadata": {},
   "outputs": [],
   "source": [
    "from sklearn.naive_bayes import GaussianNB,MultinomialNB,BernoulliNB\n",
    "from sklearn.metrics import accuracy_score,confusion_matrix,precision_score"
   ]
  },
  {
   "cell_type": "code",
   "execution_count": 386,
   "id": "5ef44666",
   "metadata": {},
   "outputs": [],
   "source": [
    "gnb=GaussianNB()\n",
    "mnb=MultinomialNB()\n",
    "bnb=BernoulliNB()"
   ]
  },
  {
   "cell_type": "code",
   "execution_count": 387,
   "id": "e52d1090",
   "metadata": {},
   "outputs": [
    {
     "data": {
      "text/plain": [
       "(4135, 3000)"
      ]
     },
     "execution_count": 387,
     "metadata": {},
     "output_type": "execute_result"
    }
   ],
   "source": [
    "X_train.shape"
   ]
  },
  {
   "cell_type": "code",
   "execution_count": 388,
   "id": "c6e6f963",
   "metadata": {},
   "outputs": [
    {
     "data": {
      "text/plain": [
       "(4135,)"
      ]
     },
     "execution_count": 388,
     "metadata": {},
     "output_type": "execute_result"
    }
   ],
   "source": [
    "y_train.shape"
   ]
  },
  {
   "cell_type": "code",
   "execution_count": 374,
   "id": "3e2672d8",
   "metadata": {},
   "outputs": [
    {
     "data": {
      "text/plain": [
       "(1034, 3000)"
      ]
     },
     "execution_count": 374,
     "metadata": {},
     "output_type": "execute_result"
    }
   ],
   "source": [
    "X_test.shape"
   ]
  },
  {
   "cell_type": "code",
   "execution_count": 375,
   "id": "63c4af32",
   "metadata": {},
   "outputs": [
    {
     "name": "stdout",
     "output_type": "stream",
     "text": [
      "0.8694390715667312\n",
      "[[788 108]\n",
      " [ 27 111]]\n",
      "0.5068493150684932\n"
     ]
    }
   ],
   "source": [
    "gnb.fit(X_train,y_train)\n",
    "y_pred1=gnb.predict(X_test)\n",
    "print(accuracy_score(y_test,y_pred1))\n",
    "print(confusion_matrix(y_test,y_pred1))\n",
    "print(precision_score(y_test,y_pred1))"
   ]
  },
  {
   "cell_type": "code",
   "execution_count": 389,
   "id": "e94f7929",
   "metadata": {},
   "outputs": [
    {
     "name": "stdout",
     "output_type": "stream",
     "text": [
      "0.9709864603481625\n",
      "[[896   0]\n",
      " [ 30 108]]\n",
      "1.0\n"
     ]
    }
   ],
   "source": [
    "mnb.fit(X_train,y_train)\n",
    "y_pred2=mnb.predict(X_test)\n",
    "print(accuracy_score(y_test,y_pred2))\n",
    "print(confusion_matrix(y_test,y_pred2))\n",
    "print(precision_score(y_test,y_pred2)) # this will be taken as its precision is 1 "
   ]
  },
  {
   "cell_type": "code",
   "execution_count": 377,
   "id": "e1c8e0c1",
   "metadata": {},
   "outputs": [
    {
     "name": "stdout",
     "output_type": "stream",
     "text": [
      "0.9835589941972921\n",
      "[[895   1]\n",
      " [ 16 122]]\n",
      "0.991869918699187\n"
     ]
    }
   ],
   "source": [
    "bnb.fit(X_train,y_train)\n",
    "y_pred3=bnb.predict(X_test)\n",
    "print(accuracy_score(y_test,y_pred3))\n",
    "print(confusion_matrix(y_test,y_pred3))\n",
    "print(precision_score(y_test,y_pred3))"
   ]
  },
  {
   "cell_type": "markdown",
   "id": "b84d2e0c",
   "metadata": {},
   "source": [
    "#### check other algorithm to see their accuracy and precion"
   ]
  },
  {
   "cell_type": "code",
   "execution_count": null,
   "id": "38a4f2e5",
   "metadata": {},
   "outputs": [],
   "source": []
  },
  {
   "cell_type": "code",
   "execution_count": 302,
   "id": "cb7d5194",
   "metadata": {},
   "outputs": [],
   "source": [
    "from sklearn. linear_model import LogisticRegression\n",
    "from sklearn.svm import SVC\n",
    "from sklearn.naive_bayes import MultinomialNB \n",
    "from sklearn.tree import DecisionTreeClassifier \n",
    "from sklearn.neighbors import KNeighborsClassifier \n",
    "from sklearn.ensemble import RandomForestClassifier \n",
    "from sklearn.ensemble import AdaBoostClassifier\n",
    "from sklearn.ensemble import BaggingClassifier \n",
    "from sklearn.ensemble import ExtraTreesClassifier \n",
    "from sklearn.ensemble import GradientBoostingClassifier \n",
    "from xgboost import XGBClassifier"
   ]
  },
  {
   "cell_type": "code",
   "execution_count": 320,
   "id": "67e7ae75",
   "metadata": {},
   "outputs": [],
   "source": [
    "svc = SVC(kernel='sigmoid', gamma=1.0)\n",
    "knc = KNeighborsClassifier()\n",
    "mnb= MultinomialNB()\n",
    "dtc=DecisionTreeClassifier (max_depth=5)\n",
    "lrc= LogisticRegression(solver='liblinear', penalty='l1')\n",
    "rfc=RandomForestClassifier(n_estimators=50, random_state=2)\n",
    "abc= AdaBoostClassifier(n_estimators=50, random_state=2)\n",
    "bc= BaggingClassifier(n_estimators=50, random_state=2)\n",
    "etc = ExtraTreesClassifier(n_estimators=50, random_state=2)\n",
    "gbdt = GradientBoostingClassifier(n_estimators=50,random_state=2)\n",
    "xgb = XGBClassifier(n_estimators=50,random_state=2)"
   ]
  },
  {
   "cell_type": "code",
   "execution_count": 321,
   "id": "0d7fecb1",
   "metadata": {},
   "outputs": [],
   "source": [
    "clfs={\n",
    "    'SVC': svc,\n",
    "    'KN': knc,\n",
    "    'NB':mnb,\n",
    "    'DT':dtc,\n",
    "    'LR':lrc,\n",
    "    'RF':rfc,\n",
    "    'Adaboost':abc,\n",
    "    'bgc':bc,\n",
    "    'ETC':etc,\n",
    "    'GBDT':gbdt,\n",
    "    'xgb':xgb\n",
    "}"
   ]
  },
  {
   "cell_type": "code",
   "execution_count": 322,
   "id": "e60645d2",
   "metadata": {},
   "outputs": [],
   "source": [
    "from sklearn.metrics import accuracy_score, precision_score\n",
    "\n",
    "def train_classifier(clf, X_train, y_train, X_test, y_test):\n",
    "    clf.fit(X_train, y_train)\n",
    "    y_pred = clf.predict(X_test)\n",
    "    accuracy = accuracy_score(y_test, y_pred)\n",
    "    precision = precision_score(y_test, y_pred)\n",
    "    return accuracy, precision\n"
   ]
  },
  {
   "cell_type": "code",
   "execution_count": 323,
   "id": "d2767473",
   "metadata": {},
   "outputs": [
    {
     "data": {
      "text/plain": [
       "(0.9758220502901354, 0.9747899159663865)"
      ]
     },
     "execution_count": 323,
     "metadata": {},
     "output_type": "execute_result"
    }
   ],
   "source": [
    "train_classifier(svc,X_train,y_train,X_test,y_test)"
   ]
  },
  {
   "cell_type": "code",
   "execution_count": 324,
   "id": "9959b1a7",
   "metadata": {},
   "outputs": [
    {
     "name": "stdout",
     "output_type": "stream",
     "text": [
      "For SVC\n",
      "Accuracy: 0.9758220502901354\n",
      "Precision: 0.9747899159663865\n",
      "For KN\n",
      "Accuracy: 0.9052224371373307\n",
      "Precision: 1.0\n",
      "For NB\n",
      "Accuracy: 0.9709864603481625\n",
      "Precision: 1.0\n",
      "For DT\n",
      "Accuracy: 0.9323017408123792\n",
      "Precision: 0.8333333333333334\n",
      "For LR\n",
      "Accuracy: 0.9584139264990329\n",
      "Precision: 0.9702970297029703\n",
      "For RF\n",
      "Accuracy: 0.9758220502901354\n",
      "Precision: 0.9829059829059829\n",
      "For Adaboost\n",
      "Accuracy: 0.9245647969052224\n",
      "Precision: 0.8488372093023255\n",
      "For bgc\n",
      "Accuracy: 0.9584139264990329\n",
      "Precision: 0.8682170542635659\n",
      "For ETC\n",
      "Accuracy: 0.9748549323017408\n",
      "Precision: 0.9745762711864406\n",
      "For GBDT\n",
      "Accuracy: 0.9468085106382979\n",
      "Precision: 0.9191919191919192\n",
      "For xgb\n",
      "Accuracy: 0.9671179883945842\n",
      "Precision: 0.9482758620689655\n"
     ]
    }
   ],
   "source": [
    "accuracies = []\n",
    "precisions = []\n",
    "\n",
    "for name, clf in clfs.items():\n",
    "    current_accuracy, current_precision = train_classifier(clf, X_train, y_train, X_test, y_test)\n",
    "    print(f'For {name}')\n",
    "    print(f'Accuracy: {current_accuracy}')\n",
    "    print(f'Precision: {current_precision}')\n",
    "    accuracies.append(current_accuracy)\n",
    "    precisions.append(current_precision)\n",
    "    "
   ]
  },
  {
   "cell_type": "code",
   "execution_count": null,
   "id": "01e7aaa7",
   "metadata": {},
   "outputs": [],
   "source": []
  },
  {
   "cell_type": "code",
   "execution_count": 278,
   "id": "7846c441",
   "metadata": {},
   "outputs": [],
   "source": [
    "# we choose tfidf --> mnb"
   ]
  },
  {
   "cell_type": "markdown",
   "id": "90e434c4",
   "metadata": {},
   "source": [
    "# Model Improvement"
   ]
  },
  {
   "cell_type": "code",
   "execution_count": 279,
   "id": "37088692",
   "metadata": {},
   "outputs": [],
   "source": [
    "# i changed the max_fetures parameter of tfidf\n",
    "# tf = TfidfVectorizer()->tf = TfidfVectorizer(max_features=3000)"
   ]
  },
  {
   "cell_type": "code",
   "execution_count": null,
   "id": "164d1410",
   "metadata": {},
   "outputs": [],
   "source": []
  },
  {
   "cell_type": "code",
   "execution_count": 393,
   "id": "338cd706",
   "metadata": {},
   "outputs": [
    {
     "name": "stdout",
     "output_type": "stream",
     "text": [
      "Defaulting to user installation because normal site-packages is not writeable\n",
      "Note: you may need to restart the kernel to use updated packages.\n"
     ]
    },
    {
     "name": "stderr",
     "output_type": "stream",
     "text": [
      "ERROR: Could not find a version that satisfies the requirement pickle (from versions: none)\n",
      "ERROR: No matching distribution found for pickle\n"
     ]
    }
   ],
   "source": [
    "pip install pickle"
   ]
  },
  {
   "cell_type": "code",
   "execution_count": 397,
   "id": "85ee82d5",
   "metadata": {},
   "outputs": [],
   "source": [
    "import pickle\n",
    "pickle.dump(tf,open('vectorizer.pkl','wb'))\n",
    "pickle.dump(mnb,open('model.pkl','wb'))"
   ]
  },
  {
   "cell_type": "code",
   "execution_count": null,
   "id": "91614167",
   "metadata": {},
   "outputs": [],
   "source": []
  }
 ],
 "metadata": {
  "kernelspec": {
   "display_name": "Python 3 (ipykernel)",
   "language": "python",
   "name": "python3"
  },
  "language_info": {
   "codemirror_mode": {
    "name": "ipython",
    "version": 3
   },
   "file_extension": ".py",
   "mimetype": "text/x-python",
   "name": "python",
   "nbconvert_exporter": "python",
   "pygments_lexer": "ipython3",
   "version": "3.11.5"
  }
 },
 "nbformat": 4,
 "nbformat_minor": 5
}
